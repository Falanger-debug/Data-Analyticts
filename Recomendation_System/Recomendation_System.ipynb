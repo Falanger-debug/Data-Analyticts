{
 "cells": [
  {
   "metadata": {},
   "cell_type": "markdown",
   "source": [
    "# Recommendation System - Movies\n",
    "\n",
    "I am going to build a recommendation system for movies using the MovieLens dataset. The dataset contains 100,000 ratings and 3,600 tag applications applied to 9,000 movies by 600 users. Last updated 9/2018. The dataset was generated on September 26, 2018. Users were selected at random for inclusion. All selected users had rated at least 20 movies. Each user is represented by an id, and no other information is provided.\n",
    "\n",
    "Citation:\n",
    "F. Maxwell Harper and Joseph A. Konstan. 2015. The MovieLens Datasets: History and Context. ACM Transactions on Interactive Intelligent Systems (TiiS) 5, 4: 19:1–19:19. https://doi.org/10.1145/2827872"
   ],
   "id": "a43a64e9dfa984ea"
  },
  {
   "metadata": {
    "ExecuteTime": {
     "end_time": "2025-01-07T14:17:29.441192Z",
     "start_time": "2025-01-07T14:17:29.352239Z"
    }
   },
   "cell_type": "code",
   "source": [
    "import pandas as pd\n",
    "\n",
    "movies_df = pd.read_csv('./data/ml-latest-small/movies.csv')\n",
    "ratings_df = pd.read_csv('./data/ml-latest-small/ratings.csv')\n"
   ],
   "id": "9f4806bd7c9ac982",
   "outputs": [],
   "execution_count": 2
  },
  {
   "metadata": {
    "ExecuteTime": {
     "end_time": "2025-01-07T14:17:29.454243Z",
     "start_time": "2025-01-07T14:17:29.446206Z"
    }
   },
   "cell_type": "code",
   "source": [
    "print(f\"The dimensions of the movies dataframe are: {movies_df.shape}\")\n",
    "print(f\"The dimensions of the ratings dataframe are: {ratings_df.shape}\")"
   ],
   "id": "a65bfa3d42e6ee33",
   "outputs": [
    {
     "name": "stdout",
     "output_type": "stream",
     "text": [
      "The dimensions of the movies dataframe are: (9742, 3)\n",
      "The dimensions of the ratings dataframe are: (100836, 4)\n"
     ]
    }
   ],
   "execution_count": 3
  },
  {
   "metadata": {
    "ExecuteTime": {
     "end_time": "2025-01-07T14:17:58.743864Z",
     "start_time": "2025-01-07T14:17:58.715483Z"
    }
   },
   "cell_type": "code",
   "source": [
    "# Let's take a look at the movies dataframe\n",
    "movies_df.head()"
   ],
   "id": "6d3afb8b264b24bb",
   "outputs": [
    {
     "data": {
      "text/plain": [
       "   movieId                               title  \\\n",
       "0        1                    Toy Story (1995)   \n",
       "1        2                      Jumanji (1995)   \n",
       "2        3             Grumpier Old Men (1995)   \n",
       "3        4            Waiting to Exhale (1995)   \n",
       "4        5  Father of the Bride Part II (1995)   \n",
       "\n",
       "                                        genres  \n",
       "0  Adventure|Animation|Children|Comedy|Fantasy  \n",
       "1                   Adventure|Children|Fantasy  \n",
       "2                               Comedy|Romance  \n",
       "3                         Comedy|Drama|Romance  \n",
       "4                                       Comedy  "
      ],
      "text/html": [
       "<div>\n",
       "<style scoped>\n",
       "    .dataframe tbody tr th:only-of-type {\n",
       "        vertical-align: middle;\n",
       "    }\n",
       "\n",
       "    .dataframe tbody tr th {\n",
       "        vertical-align: top;\n",
       "    }\n",
       "\n",
       "    .dataframe thead th {\n",
       "        text-align: right;\n",
       "    }\n",
       "</style>\n",
       "<table border=\"1\" class=\"dataframe\">\n",
       "  <thead>\n",
       "    <tr style=\"text-align: right;\">\n",
       "      <th></th>\n",
       "      <th>movieId</th>\n",
       "      <th>title</th>\n",
       "      <th>genres</th>\n",
       "    </tr>\n",
       "  </thead>\n",
       "  <tbody>\n",
       "    <tr>\n",
       "      <th>0</th>\n",
       "      <td>1</td>\n",
       "      <td>Toy Story (1995)</td>\n",
       "      <td>Adventure|Animation|Children|Comedy|Fantasy</td>\n",
       "    </tr>\n",
       "    <tr>\n",
       "      <th>1</th>\n",
       "      <td>2</td>\n",
       "      <td>Jumanji (1995)</td>\n",
       "      <td>Adventure|Children|Fantasy</td>\n",
       "    </tr>\n",
       "    <tr>\n",
       "      <th>2</th>\n",
       "      <td>3</td>\n",
       "      <td>Grumpier Old Men (1995)</td>\n",
       "      <td>Comedy|Romance</td>\n",
       "    </tr>\n",
       "    <tr>\n",
       "      <th>3</th>\n",
       "      <td>4</td>\n",
       "      <td>Waiting to Exhale (1995)</td>\n",
       "      <td>Comedy|Drama|Romance</td>\n",
       "    </tr>\n",
       "    <tr>\n",
       "      <th>4</th>\n",
       "      <td>5</td>\n",
       "      <td>Father of the Bride Part II (1995)</td>\n",
       "      <td>Comedy</td>\n",
       "    </tr>\n",
       "  </tbody>\n",
       "</table>\n",
       "</div>"
      ]
     },
     "execution_count": 4,
     "metadata": {},
     "output_type": "execute_result"
    }
   ],
   "execution_count": 4
  },
  {
   "metadata": {
    "ExecuteTime": {
     "end_time": "2025-01-07T14:18:16.945160Z",
     "start_time": "2025-01-07T14:18:16.930581Z"
    }
   },
   "cell_type": "code",
   "source": [
    "# Let's take a look at the ratings dataframe\n",
    "ratings_df.head()"
   ],
   "id": "a4355a7b47db1273",
   "outputs": [
    {
     "data": {
      "text/plain": [
       "   userId  movieId  rating  timestamp\n",
       "0       1        1     4.0  964982703\n",
       "1       1        3     4.0  964981247\n",
       "2       1        6     4.0  964982224\n",
       "3       1       47     5.0  964983815\n",
       "4       1       50     5.0  964982931"
      ],
      "text/html": [
       "<div>\n",
       "<style scoped>\n",
       "    .dataframe tbody tr th:only-of-type {\n",
       "        vertical-align: middle;\n",
       "    }\n",
       "\n",
       "    .dataframe tbody tr th {\n",
       "        vertical-align: top;\n",
       "    }\n",
       "\n",
       "    .dataframe thead th {\n",
       "        text-align: right;\n",
       "    }\n",
       "</style>\n",
       "<table border=\"1\" class=\"dataframe\">\n",
       "  <thead>\n",
       "    <tr style=\"text-align: right;\">\n",
       "      <th></th>\n",
       "      <th>userId</th>\n",
       "      <th>movieId</th>\n",
       "      <th>rating</th>\n",
       "      <th>timestamp</th>\n",
       "    </tr>\n",
       "  </thead>\n",
       "  <tbody>\n",
       "    <tr>\n",
       "      <th>0</th>\n",
       "      <td>1</td>\n",
       "      <td>1</td>\n",
       "      <td>4.0</td>\n",
       "      <td>964982703</td>\n",
       "    </tr>\n",
       "    <tr>\n",
       "      <th>1</th>\n",
       "      <td>1</td>\n",
       "      <td>3</td>\n",
       "      <td>4.0</td>\n",
       "      <td>964981247</td>\n",
       "    </tr>\n",
       "    <tr>\n",
       "      <th>2</th>\n",
       "      <td>1</td>\n",
       "      <td>6</td>\n",
       "      <td>4.0</td>\n",
       "      <td>964982224</td>\n",
       "    </tr>\n",
       "    <tr>\n",
       "      <th>3</th>\n",
       "      <td>1</td>\n",
       "      <td>47</td>\n",
       "      <td>5.0</td>\n",
       "      <td>964983815</td>\n",
       "    </tr>\n",
       "    <tr>\n",
       "      <th>4</th>\n",
       "      <td>1</td>\n",
       "      <td>50</td>\n",
       "      <td>5.0</td>\n",
       "      <td>964982931</td>\n",
       "    </tr>\n",
       "  </tbody>\n",
       "</table>\n",
       "</div>"
      ]
     },
     "execution_count": 5,
     "metadata": {},
     "output_type": "execute_result"
    }
   ],
   "execution_count": 5
  },
  {
   "metadata": {},
   "cell_type": "markdown",
   "source": [
    "## Comment\n",
    "As we can see, there are duplicates in the ratings dataframe. It's a good sign because it means that users rated more than one movie. Actually, at least 20 movies each. <br>\n",
    "## Movies Dataframe\n",
    "The movies dataframe has 3 columns: movieId, title and genres. The movieId is a unique identifier for each movie. The title is the name of the movie. The genres column contains a list of genres separated by a pipe (|). <br>\n",
    "## Ratings Dataframe\n",
    "The ratings dataframe has 4 columns: userId, movieId, rating and timestamp. The userId is a unique identifier for each user. The movieId is a unique identifier for each movie. The rating is the score given by the user to the movie. The timestamp is the time when the user rated the movie. <br>\n"
   ],
   "id": "3ed9c162585592db"
  },
  {
   "metadata": {},
   "cell_type": "markdown",
   "source": [
    "## Theoretical Background\n",
    "### Collaborative Filtering\n",
    "Collaborative filtering relies on user behavior and preferences. It makes recommendations based on the idea that if two users have agreed on many items in the past, they are likely to agree on future items as well. There are two types: <br>\n",
    "- User-based collaborative filtering: Recommends items that similar users have liked.<br>\n",
    "- Item-based collaborative filtering: Recommends items that are similar to the ones the user has liked or interacted with in the past.<br>\n",
    "Example: If user A and user B both liked movies X and Y, and user A liked movie Z, the system might recommend movie Z to user B.\n",
    "### Content-Based Filtering\n",
    "Content-based filtering recommends items based on the attributes of the items themselves and the user's past behavior. It focuses on the features of items (such as genre, author, keywords, etc.) and suggests items similar to those the user has shown interest in. <br>\n",
    "Example: If a user likes action movies, the system might recommend more action movies based on their genre, director, or cast.\n",
    "### Key Difference:\n",
    "- Collaborative filtering leverages user preferences and interactions.\n",
    "- Content-based filtering uses item features and user history to make recommendations.\n",
    "### What are we going to do with our dataset?\n",
    "We will primarily use collaborative filtering, specifically matrix factorization.\n",
    "## Matrix Factorization\n",
    "Matrix factorization is a technique often used in collaborative filtering methods for recommendation systems, where the goal is to predict missing entries in a matrix, typically a user-item interaction matrix (e.g., user ratings of movies, products, etc.). The idea is to break down the matrix into two lower-dimensional matrices, called factors or embeddings, that capture the latent features underlying the interactions between users and items.\n",
    "### In the context of recommendation systems:\n",
    "- The matrix: This is typically a large, sparse matrix, where rows represent users, columns represent items (e.g., movies), and the entries are ratings (or interactions) provided by users to items.\n",
    "- The goal: The objective of matrix factorization is to approximate the original matrix by decomposing it into two smaller matrices that can be multiplied together to predict the missing ratings."
   ],
   "id": "9e4a09afa50fb68d"
  },
  {
   "metadata": {},
   "cell_type": "code",
   "outputs": [],
   "execution_count": null,
   "source": "",
   "id": "95946b120cb9f009"
  },
  {
   "metadata": {},
   "cell_type": "code",
   "outputs": [],
   "execution_count": null,
   "source": "",
   "id": "a489758128c4af17"
  }
 ],
 "metadata": {
  "kernelspec": {
   "display_name": "Python 3",
   "language": "python",
   "name": "python3"
  },
  "language_info": {
   "codemirror_mode": {
    "name": "ipython",
    "version": 2
   },
   "file_extension": ".py",
   "mimetype": "text/x-python",
   "name": "python",
   "nbconvert_exporter": "python",
   "pygments_lexer": "ipython2",
   "version": "2.7.6"
  }
 },
 "nbformat": 4,
 "nbformat_minor": 5
}
