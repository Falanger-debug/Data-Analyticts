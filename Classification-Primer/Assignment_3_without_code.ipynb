{
 "cells": [
  {
   "cell_type": "markdown",
   "metadata": {},
   "source": [
    "### Today we are going to perform the simple classification of the amazon reviews' sentiment.\n",
    "\n",
    "### Please, download the dataset amazon_baby.csv."
   ]
  },
  {
   "cell_type": "code",
   "metadata": {
    "collapsed": false,
    "ExecuteTime": {
     "end_time": "2024-11-07T17:08:14.369967Z",
     "start_time": "2024-11-07T17:08:13.201386Z"
    }
   },
   "source": [
    "import pandas as pd\n",
    "import numpy as np\n",
    "import matplotlib.pyplot as plt\n",
    "import string\n",
    "from sklearn.linear_model import LogisticRegression\n",
    "from sklearn.model_selection import train_test_split\n",
    "\n",
    "\n",
    "def remove_punctuation(text):\n",
    "    import string\n",
    "    if isinstance(text, str):\n",
    "        translator = str.maketrans('', '', string.punctuation)\n",
    "        return text.translate(translator)\n",
    "    return text\n",
    "baby_df = pd.read_csv('./data/amazon_baby.csv')\n",
    "baby_df.head()"
   ],
   "outputs": [
    {
     "data": {
      "text/plain": [
       "                                                name  \\\n",
       "0                           Planetwise Flannel Wipes   \n",
       "1                              Planetwise Wipe Pouch   \n",
       "2                Annas Dream Full Quilt with 2 Shams   \n",
       "3  Stop Pacifier Sucking without tears with Thumb...   \n",
       "4  Stop Pacifier Sucking without tears with Thumb...   \n",
       "\n",
       "                                              review  rating  \n",
       "0  These flannel wipes are OK, but in my opinion ...       3  \n",
       "1  it came early and was not disappointed. i love...       5  \n",
       "2  Very soft and comfortable and warmer than it l...       5  \n",
       "3  This is a product well worth the purchase.  I ...       5  \n",
       "4  All of my kids have cried non-stop when I trie...       5  "
      ],
      "text/html": [
       "<div>\n",
       "<style scoped>\n",
       "    .dataframe tbody tr th:only-of-type {\n",
       "        vertical-align: middle;\n",
       "    }\n",
       "\n",
       "    .dataframe tbody tr th {\n",
       "        vertical-align: top;\n",
       "    }\n",
       "\n",
       "    .dataframe thead th {\n",
       "        text-align: right;\n",
       "    }\n",
       "</style>\n",
       "<table border=\"1\" class=\"dataframe\">\n",
       "  <thead>\n",
       "    <tr style=\"text-align: right;\">\n",
       "      <th></th>\n",
       "      <th>name</th>\n",
       "      <th>review</th>\n",
       "      <th>rating</th>\n",
       "    </tr>\n",
       "  </thead>\n",
       "  <tbody>\n",
       "    <tr>\n",
       "      <th>0</th>\n",
       "      <td>Planetwise Flannel Wipes</td>\n",
       "      <td>These flannel wipes are OK, but in my opinion ...</td>\n",
       "      <td>3</td>\n",
       "    </tr>\n",
       "    <tr>\n",
       "      <th>1</th>\n",
       "      <td>Planetwise Wipe Pouch</td>\n",
       "      <td>it came early and was not disappointed. i love...</td>\n",
       "      <td>5</td>\n",
       "    </tr>\n",
       "    <tr>\n",
       "      <th>2</th>\n",
       "      <td>Annas Dream Full Quilt with 2 Shams</td>\n",
       "      <td>Very soft and comfortable and warmer than it l...</td>\n",
       "      <td>5</td>\n",
       "    </tr>\n",
       "    <tr>\n",
       "      <th>3</th>\n",
       "      <td>Stop Pacifier Sucking without tears with Thumb...</td>\n",
       "      <td>This is a product well worth the purchase.  I ...</td>\n",
       "      <td>5</td>\n",
       "    </tr>\n",
       "    <tr>\n",
       "      <th>4</th>\n",
       "      <td>Stop Pacifier Sucking without tears with Thumb...</td>\n",
       "      <td>All of my kids have cried non-stop when I trie...</td>\n",
       "      <td>5</td>\n",
       "    </tr>\n",
       "  </tbody>\n",
       "</table>\n",
       "</div>"
      ]
     },
     "execution_count": 242,
     "metadata": {},
     "output_type": "execute_result"
    }
   ],
   "execution_count": 242
  },
  {
   "cell_type": "markdown",
   "metadata": {},
   "source": [
    "## Exercise 1 (data preparation)\n",
    "a) Remove punctuation from reviews using the given function.   \n",
    "b) Replace all missing (nan) revies with empty \"\" string.  \n",
    "c) Drop all the entries with rating = 3, as they have neutral sentiment.   \n",
    "d) Set all positive ($\\geq$4) ratings to 1 and negative($\\leq$2) to -1."
   ]
  },
  {
   "cell_type": "code",
   "metadata": {
    "collapsed": false,
    "ExecuteTime": {
     "end_time": "2024-11-07T17:08:16.577307Z",
     "start_time": "2024-11-07T17:08:14.425350Z"
    }
   },
   "source": [
    "#a)\n",
    "\n",
    "baby_df[\"review\"] = baby_df[\"review\"].apply(remove_punctuation)\n",
    "#short test: \n",
    "baby_df[\"review\"][4] == 'All of my kids have cried nonstop when I tried to ween them off their pacifier until I found Thumbuddy To Loves Binky Fairy Puppet  It is an easy way to work with your kids to allow them to understand where their pacifier is going and help them part from itThis is a must buy book and a great gift for expecting parents  You will save them soo many headachesThanks for this book  You all rock'\n",
    "remove_punctuation(baby_df[\"review\"][4]) == 'All of my kids have cried nonstop when I tried to ween them off their pacifier until I found Thumbuddy To Loves Binky Fairy Puppet  It is an easy way to work with your kids to allow them to understand where their pacifier is going and help them part from itThis is a must buy book and a great gift for expecting parents  You will save them soo many headachesThanks for this book  You all rock'"
   ],
   "outputs": [
    {
     "data": {
      "text/plain": [
       "True"
      ]
     },
     "execution_count": 243,
     "metadata": {},
     "output_type": "execute_result"
    }
   ],
   "execution_count": 243
  },
  {
   "metadata": {},
   "cell_type": "markdown",
   "source": "I had to modify the function a bit, because it was trying to remove punctuation from a float. Now it works as expected."
  },
  {
   "cell_type": "code",
   "metadata": {
    "collapsed": false,
    "ExecuteTime": {
     "end_time": "2024-11-07T17:08:16.687709Z",
     "start_time": "2024-11-07T17:08:16.627219Z"
    }
   },
   "source": [
    "#b)\n",
    "baby_df[\"review\"] = baby_df[\"review\"].fillna(\"\")\n",
    "\n",
    "#short test:\n",
    "baby_df[\"review\"][38] == baby_df[\"review\"][38]"
   ],
   "outputs": [
    {
     "data": {
      "text/plain": [
       "True"
      ]
     },
     "execution_count": 244,
     "metadata": {},
     "output_type": "execute_result"
    }
   ],
   "execution_count": 244
  },
  {
   "metadata": {},
   "cell_type": "markdown",
   "source": "Now there are no NaN values in the dataset."
  },
  {
   "cell_type": "code",
   "metadata": {
    "collapsed": false,
    "ExecuteTime": {
     "end_time": "2024-11-07T17:08:16.793337Z",
     "start_time": "2024-11-07T17:08:16.721029Z"
    }
   },
   "source": [
    "#c)\n",
    "baby_df = baby_df[baby_df['rating'] != 3].reset_index(drop=True)\n",
    "\n",
    "#short test:\n",
    "sum(baby_df[\"rating\"] == 3)"
   ],
   "outputs": [
    {
     "data": {
      "text/plain": [
       "0"
      ]
     },
     "execution_count": 245,
     "metadata": {},
     "output_type": "execute_result"
    }
   ],
   "execution_count": 245
  },
  {
   "metadata": {},
   "cell_type": "markdown",
   "source": "There is no rating equal to 3 in the dataset."
  },
  {
   "cell_type": "code",
   "metadata": {
    "collapsed": false,
    "ExecuteTime": {
     "end_time": "2024-11-07T17:08:16.858949Z",
     "start_time": "2024-11-07T17:08:16.831100Z"
    }
   },
   "source": [
    "#d) \n",
    "baby_df[\"rating\"] = np.where(baby_df[\"rating\"] >= 4, 1, -1)\n",
    "\n",
    "#short test:\n",
    "sum(baby_df[\"rating\"]**2 != 1)\n",
    "\n",
    "#163lk"
   ],
   "outputs": [
    {
     "data": {
      "text/plain": [
       "0"
      ]
     },
     "execution_count": 246,
     "metadata": {},
     "output_type": "execute_result"
    }
   ],
   "execution_count": 246
  },
  {
   "metadata": {},
   "cell_type": "markdown",
   "source": "Now we have only two classes of ratings. 1 or -1"
  },
  {
   "cell_type": "markdown",
   "metadata": {},
   "source": [
    "## CountVectorizer\n",
    "In order to analyze strings, we need to assign them numerical values. We will use one of the simplest string representation, which transforms strings into the $n$ dimensional vectors. The number of dimensions will be the size of our dictionary, and then the values of the vector will represent the number of appereances of the given word in the sentence."
   ]
  },
  {
   "cell_type": "code",
   "metadata": {
    "collapsed": false,
    "ExecuteTime": {
     "end_time": "2024-11-07T17:08:16.907622Z",
     "start_time": "2024-11-07T17:08:16.887428Z"
    }
   },
   "source": [
    "from sklearn.feature_extraction.text import CountVectorizer\n",
    "\n",
    "vectorizer = CountVectorizer()\n",
    "reviews_train_example = [\"We like apples\",\n",
    "                   \"We hate oranges\",\n",
    "                   \"I adore bananas\",\n",
    "                   \"We like like apples and oranges\",\n",
    "                   \"They dislike bananas\"]\n",
    "\n",
    "X_train_example = vectorizer.fit_transform(reviews_train_example)\n",
    "\n",
    "print(vectorizer.get_feature_names_out())\n",
    "print(X_train_example.todense())\n",
    "\n"
   ],
   "outputs": [
    {
     "name": "stdout",
     "output_type": "stream",
     "text": [
      "['adore' 'and' 'apples' 'bananas' 'dislike' 'hate' 'like' 'oranges' 'they'\n",
      " 'we']\n",
      "[[0 0 1 0 0 0 1 0 0 1]\n",
      " [0 0 0 0 0 1 0 1 0 1]\n",
      " [1 0 0 1 0 0 0 0 0 0]\n",
      " [0 1 1 0 0 0 2 1 0 1]\n",
      " [0 0 0 1 1 0 0 0 1 0]]\n"
     ]
    }
   ],
   "execution_count": 247
  },
  {
   "metadata": {},
   "cell_type": "markdown",
   "source": "I had to change the function get_feature_names() to get_feature_names_out() because of the deprecation. From certain version of sklearn, the function get_feature_names() has been replaced with get_feature_names_out()."
  },
  {
   "cell_type": "code",
   "metadata": {
    "collapsed": false,
    "ExecuteTime": {
     "end_time": "2024-11-07T17:08:16.942146Z",
     "start_time": "2024-11-07T17:08:16.935613Z"
    }
   },
   "source": [
    "reviews_test_example = [\"They like bananas\",\n",
    "                   \"We hate oranges bananas and apples\",\n",
    "                   \"We love bananas\"] #New word!\n",
    "\n",
    "X_test_example = vectorizer.transform(reviews_test_example)\n",
    "\n",
    "print(X_test_example.todense())"
   ],
   "outputs": [
    {
     "name": "stdout",
     "output_type": "stream",
     "text": [
      "[[0 0 0 1 0 0 1 0 1 0]\n",
      " [0 1 1 1 0 1 0 1 0 1]\n",
      " [0 0 0 1 0 0 0 0 0 1]]\n"
     ]
    }
   ],
   "execution_count": 248
  },
  {
   "cell_type": "markdown",
   "metadata": {},
   "source": [
    "We should acknowledge few facts. Firstly, CountVectorizer does not take order into account. Secondly, it ignores one-letter words (this can be changed during initialization). Finally, for test values, CountVectorizer ignores words which are not in it's dictionary."
   ]
  },
  {
   "cell_type": "markdown",
   "metadata": {},
   "source": [
    "## Exercise 2 \n",
    "a) Split dataset into training and test sets.     \n",
    "b) Transform reviews into vectors using CountVectorizer. "
   ]
  },
  {
   "cell_type": "code",
   "metadata": {
    "collapsed": true,
    "ExecuteTime": {
     "end_time": "2024-11-07T17:08:16.999174Z",
     "start_time": "2024-11-07T17:08:16.971114Z"
    }
   },
   "source": [
    "#a)\n",
    "from sklearn.model_selection import train_test_split\n",
    "train_x, test_x, train_y, test_y = train_test_split(baby_df[\"review\"], baby_df[\"rating\"], test_size=0.2, random_state=42)\n"
   ],
   "outputs": [],
   "execution_count": 249
  },
  {
   "cell_type": "code",
   "metadata": {
    "collapsed": true,
    "jupyter": {
     "is_executing": true
    },
    "ExecuteTime": {
     "start_time": "2024-11-07T17:08:17.025201Z"
    }
   },
   "source": [
    "#b)\n",
    "\n",
    "vectorizer = CountVectorizer()\n",
    "\n",
    "train_x = vectorizer.fit_transform(train_x)\n",
    "test_x = vectorizer.transform(test_x)\n"
   ],
   "outputs": [],
   "execution_count": null
  },
  {
   "cell_type": "markdown",
   "metadata": {},
   "source": [
    "## Exercise 3 \n",
    "a) Train LogisticRegression model on training data (reviews processed with CountVectorizer, ratings as they were).   \n",
    "b) Print 10 most positive and 10 most negative words."
   ]
  },
  {
   "cell_type": "code",
   "metadata": {
    "collapsed": true
   },
   "source": [
    "#a)\n",
    "model = LogisticRegression(max_iter = 1000)\n",
    "\n",
    "model.fit(train_x, train_y)\n"
   ],
   "outputs": [],
   "execution_count": null
  },
  {
   "cell_type": "code",
   "metadata": {
    "collapsed": true
   },
   "source": [
    "#b)\n",
    "feature_names = vectorizer.get_feature_names_out()\n",
    "coefficients = model.coef_[0]\n",
    "\n",
    "sorted_indices = np.argsort(coefficients)\n",
    "\n",
    "most_negative = [feature_names[i] for i in sorted_indices[:10]]\n",
    "most_positive = [feature_names[i] for i in sorted_indices[-10:]]\n",
    "\n",
    "print(\"Most negative words: \", most_negative)\n",
    "print(\"Most positive words: \", most_positive)\n",
    "\n",
    "\n",
    "#hint: model.coef_, vectorizer.get_feature_names()"
   ],
   "outputs": [],
   "execution_count": null
  },
  {
   "metadata": {},
   "cell_type": "code",
   "source": [
    "import datetime\n",
    "\n",
    "train_x, test_x, train_y, test_y = train_test_split(baby_df[\"review\"], baby_df[\"rating\"], test_size=0.2, random_state=42)\n",
    "\n",
    "s_time = datetime.datetime.now()\n",
    "\n",
    "vectorizer = CountVectorizer()\n",
    "\n",
    "train_x = vectorizer.fit_transform(train_x)\n",
    "test_x = vectorizer.transform(test_x)\n",
    "\n",
    "model = LogisticRegression(max_iter = 1000)\n",
    "model.fit(train_x, train_y)\n",
    "\n",
    "feature_names = vectorizer.get_feature_names_out()\n",
    "coefficients = model.coef_[0]\n",
    "\n",
    "sorted_indices = np.argsort(coefficients)\n",
    "\n",
    "most_negative = [feature_names[i] for i in sorted_indices[:10]]\n",
    "most_positive = [feature_names[i] for i in sorted_indices[-10:]]\n",
    "\n",
    "print(\"Most negative words: \", most_negative)\n",
    "print(\"Most positive words: \", most_positive)\n",
    "\n",
    "\n",
    "predicted_sentiments = model.predict(test_x)\n",
    "predicted_sentiments_proba = model.predict_proba(test_x)\n",
    "\n",
    "e_time = datetime.datetime.now()\n",
    "unlimited_vocab_time = e_time - s_time\n"
   ],
   "outputs": [],
   "execution_count": null
  },
  {
   "cell_type": "markdown",
   "metadata": {},
   "source": [
    "## Exercise 4 \n",
    "a) Predict the sentiment of test data reviews.   \n",
    "b) Predict the sentiment of test data reviews in terms of probability.   \n",
    "c) Find five most positive and most negative reviews.   \n",
    "d) Calculate the accuracy of predictions."
   ]
  },
  {
   "cell_type": "code",
   "metadata": {
    "collapsed": true
   },
   "source": [
    "#a)\n",
    "predicted_sentiments = model.predict(test_x)"
   ],
   "outputs": [],
   "execution_count": null
  },
  {
   "cell_type": "code",
   "metadata": {
    "collapsed": true
   },
   "source": [
    "#b)\n",
    "predicted_sentiments_proba = model.predict_proba(test_x)\n",
    "#hint: model.predict_proba()"
   ],
   "outputs": [],
   "execution_count": null
  },
  {
   "cell_type": "code",
   "metadata": {
    "collapsed": true
   },
   "source": [
    "#c) \n",
    "\n",
    "df = pd.DataFrame({\n",
    "    \"review\": baby_df[\"review\"].iloc[test_y.index],\n",
    "    \"true_rating\": test_y.values,\n",
    "    \"predicted_rating\": predicted_sentiments,\n",
    "    \"predicted_rating_proba\": predicted_sentiments_proba[:, 1]\n",
    "})\n",
    "\n",
    "most_positive = df.sort_values(\"predicted_rating_proba\", ascending=False).head(5)\n",
    "most_negative = df.sort_values(\"predicted_rating_proba\").head(5)\n",
    "accuracy_1 = np.mean(predicted_sentiments == test_y)\n",
    "\n",
    "print(f\"Most positive reviews: {most_positive}\")\n",
    "print(f\"Most negative reviews: {most_negative}\")\n",
    "print(f\"Accuracy: {accuracy_1}\")\n",
    "\n",
    "#hint: use the results of b)"
   ],
   "outputs": [],
   "execution_count": null
  },
  {
   "cell_type": "code",
   "metadata": {
    "collapsed": true
   },
   "source": [
    "#d) \n"
   ],
   "outputs": [],
   "execution_count": null
  },
  {
   "cell_type": "markdown",
   "metadata": {},
   "source": [
    "## Exercise 5\n",
    "In this exercise we will limit the dictionary of CountVectorizer to the set of significant words, defined below.\n",
    "\n",
    "\n",
    "a) Redo exercises 2-5 using limited dictionary.   \n",
    "b) Check the impact of all the words from the dictionary.   \n",
    "c) Compare accuracy of predictions and the time of evaluation."
   ]
  },
  {
   "cell_type": "code",
   "metadata": {
    "collapsed": true
   },
   "source": [
    "significant_words = ['love','great','easy','old','little','perfect','loves','well','able','car','broke','less','even','waste','disappointed','work','product','money','would','return']"
   ],
   "outputs": [],
   "execution_count": null
  },
  {
   "cell_type": "code",
   "metadata": {
    "collapsed": true
   },
   "source": [
    "#a)\n",
    "import datetime\n",
    "\n",
    "train_x, test_x, train_y, test_y = train_test_split(baby_df[\"review\"], baby_df[\"rating\"], test_size=0.2, random_state=42)\n",
    "\n",
    "s_time = datetime.datetime.now()\n",
    "\n",
    "vectorizer = CountVectorizer(vocabulary=significant_words)\n",
    "\n",
    "train_x = vectorizer.fit_transform(train_x)\n",
    "test_x = vectorizer.transform(test_x)\n",
    "\n",
    "model = LogisticRegression(max_iter = 1000)\n",
    "model.fit(train_x, train_y)\n",
    "\n",
    "feature_names = vectorizer.get_feature_names_out()\n",
    "coefficients = model.coef_[0]\n",
    "\n",
    "sorted_indices = np.argsort(coefficients)\n",
    "\n",
    "most_negative = [feature_names[i] for i in sorted_indices[:10]]\n",
    "most_positive = [feature_names[i] for i in sorted_indices[-10:]]\n",
    "\n",
    "print(\"Most negative words: \", most_negative)\n",
    "print(\"Most positive words: \", most_positive)\n",
    "\n",
    "\n",
    "predicted_sentiments = model.predict(test_x)\n",
    "predicted_sentiments_proba = model.predict_proba(test_x)\n",
    "\n",
    "e_time = datetime.datetime.now()\n",
    "limited_vocab_time = e_time - s_time\n",
    "\n",
    "df = pd.DataFrame({\n",
    "    \"review\": baby_df[\"review\"].iloc[test_y.index],\n",
    "    \"true_rating\": test_y.values,\n",
    "    \"predicted_rating\": predicted_sentiments,\n",
    "    \"predicted_rating_proba\": predicted_sentiments_proba[:, 1]\n",
    "})\n",
    "\n",
    "\n",
    "most_positive = df.sort_values(\"predicted_rating_proba\", ascending=False).head(5)\n",
    "most_negative = df.sort_values(\"predicted_rating_proba\").head(5)\n",
    "\n",
    "accuracy_2 = np.mean(predicted_sentiments == test_y)\n",
    "\n",
    "print(f\"Most positive reviews: {most_positive}\")\n",
    "print(f\"Most negative reviews: {most_negative}\")\n",
    "print(f\"Accuracy: {accuracy_2}\")\n"
   ],
   "outputs": [],
   "execution_count": null
  },
  {
   "cell_type": "code",
   "metadata": {
    "collapsed": true
   },
   "source": [
    "#b)\n",
    "\n",
    "feature_names = vectorizer.get_feature_names_out()\n",
    "coefficients = model.coef_[0]\n",
    "\n",
    "word_impact = pd.DataFrame({\n",
    "    \"word\": feature_names,\n",
    "    \"impact\": coefficients\n",
    "}).sort_values(\"impact\", ascending=False)\n",
    "\n",
    "print(\"\\nWord_impact\\n\", word_impact)\n"
   ],
   "outputs": [],
   "execution_count": null
  },
  {
   "cell_type": "code",
   "metadata": {
    "collapsed": true
   },
   "source": [
    "#c)\n",
    "from datetime import time\n",
    "\n",
    "print(f\"Time of evaluation without limited vocabulary (1): {unlimited_vocab_time}\")\n",
    "print(f\"Time of evaluation with limited vocabulary (2): {limited_vocab_time}\")\n",
    "print(f\"Time of evaluation difference (1-2): {abs(unlimited_vocab_time - limited_vocab_time)}\")\n",
    "\n",
    "print(f\"Accuracy without limited vocabulary (1): {accuracy_1}\")\n",
    "print(f\"Accuracy with limited vocabulary (2): {accuracy_2}\")\n",
    "print(f\"Accuracy difference (2): {abs(accuracy_2 - accuracy_1)}\")\n",
    "\n",
    "#hint: %time, %timeit"
   ],
   "outputs": [],
   "execution_count": null
  },
  {
   "metadata": {},
   "cell_type": "code",
   "source": "",
   "outputs": [],
   "execution_count": null
  }
 ],
 "metadata": {
  "anaconda-cloud": {},
  "kernelspec": {
   "display_name": "Python 3 (ipykernel)",
   "language": "python",
   "name": "python3"
  },
  "language_info": {
   "codemirror_mode": {
    "name": "ipython",
    "version": 2
   },
   "file_extension": ".py",
   "mimetype": "text/x-python",
   "name": "python",
   "nbconvert_exporter": "python",
   "pygments_lexer": "ipython2",
   "version": "2.7.12"
  }
 },
 "nbformat": 4,
 "nbformat_minor": 4
}
