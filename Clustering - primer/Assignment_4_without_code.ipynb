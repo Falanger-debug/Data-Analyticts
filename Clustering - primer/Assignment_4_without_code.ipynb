{
 "cells": [
  {
   "cell_type": "markdown",
   "metadata": {},
   "source": [
    "When exploring a large set of documents -- such as Wikipedia, news articles, StackOverflow, etc. -- it can be useful to get a list of related material. To find relevant documents you typically\n",
    "* Decide on a notion of similarity\n",
    "* Find the documents that are most similar \n",
    "\n",
    "In the assignment you will\n",
    "* Gain intuition for different notions of similarity and practice finding similar documents. \n",
    "* Explore the tradeoffs with representing documents using raw word counts and TF-IDF\n",
    "* Explore the behavior of different distance metrics by looking at the Wikipedia pages most similar to President Obama’s page."
   ]
  },
  {
   "cell_type": "code",
   "metadata": {
    "collapsed": false,
    "jupyter": {
     "outputs_hidden": false
    },
    "ExecuteTime": {
     "end_time": "2024-12-09T09:47:09.835053Z",
     "start_time": "2024-12-09T09:47:08.883981Z"
    }
   },
   "source": [
    "import matplotlib.pyplot as plt\n",
    "import numpy as np\n",
    "import pandas as pd\n",
    "from scipy.spatial.distance import euclidean\n",
    "from sympy.benchmarks.bench_meijerint import alpha\n",
    "%matplotlib inline"
   ],
   "outputs": [],
   "execution_count": 247
  },
  {
   "cell_type": "markdown",
   "metadata": {},
   "source": [
    "## Load Wikipedia dataset"
   ]
  },
  {
   "cell_type": "markdown",
   "metadata": {},
   "source": [
    "We will be using the dataset of abridged Wikipedia pages. Each element of the dataset consists of a link to the wikipedia article, the name of the person, and the text of the article (in lowercase).  "
   ]
  },
  {
   "cell_type": "code",
   "metadata": {
    "collapsed": false,
    "jupyter": {
     "outputs_hidden": false
    },
    "ExecuteTime": {
     "end_time": "2024-12-09T09:47:10.874522Z",
     "start_time": "2024-12-09T09:47:09.866903Z"
    }
   },
   "source": [
    "wiki = pd.read_csv('data/people_wiki.csv')\n",
    "wiki.head()"
   ],
   "outputs": [
    {
     "data": {
      "text/plain": [
       "  URI                                                name                  \\\n",
       "0        <http://dbpedia.org/resource/Digby_Morrell>        Digby Morrell   \n",
       "1       <http://dbpedia.org/resource/Alfred_J._Lewy>       Alfred J. Lewy   \n",
       "2        <http://dbpedia.org/resource/Harpdog_Brown>        Harpdog Brown   \n",
       "3  <http://dbpedia.org/resource/Franz_Rottensteiner>  Franz Rottensteiner   \n",
       "4               <http://dbpedia.org/resource/G-Enka>               G-Enka   \n",
       "\n",
       "  text                                                                                                  \n",
       "0  digby morrell born 10 october 1979 is a former australian rules footballer who played with the k...  \n",
       "1  alfred j lewy aka sandy lewy graduated from university of chicago in 1973 after studying psychia...  \n",
       "2  harpdog brown is a singer and harmonica player who has been active in canadas blues scene since ...  \n",
       "3  franz rottensteiner born in waidmannsfeld lower austria austria on 18 january 1942 is an austria...  \n",
       "4  henry krvits born 30 december 1974 in tallinn better known by his stagename genka is an estonian...  "
      ],
      "text/html": [
       "<div>\n",
       "<style scoped>\n",
       "    .dataframe tbody tr th:only-of-type {\n",
       "        vertical-align: middle;\n",
       "    }\n",
       "\n",
       "    .dataframe tbody tr th {\n",
       "        vertical-align: top;\n",
       "    }\n",
       "\n",
       "    .dataframe thead th {\n",
       "        text-align: right;\n",
       "    }\n",
       "</style>\n",
       "<table border=\"1\" class=\"dataframe\">\n",
       "  <thead>\n",
       "    <tr style=\"text-align: left;\">\n",
       "      <th></th>\n",
       "      <th>URI</th>\n",
       "      <th>name</th>\n",
       "      <th>text</th>\n",
       "    </tr>\n",
       "  </thead>\n",
       "  <tbody>\n",
       "    <tr>\n",
       "      <th>0</th>\n",
       "      <td>&lt;http://dbpedia.org/resource/Digby_Morrell&gt;</td>\n",
       "      <td>Digby Morrell</td>\n",
       "      <td>digby morrell born 10 october 1979 is a former australian rules footballer who played with the k...</td>\n",
       "    </tr>\n",
       "    <tr>\n",
       "      <th>1</th>\n",
       "      <td>&lt;http://dbpedia.org/resource/Alfred_J._Lewy&gt;</td>\n",
       "      <td>Alfred J. Lewy</td>\n",
       "      <td>alfred j lewy aka sandy lewy graduated from university of chicago in 1973 after studying psychia...</td>\n",
       "    </tr>\n",
       "    <tr>\n",
       "      <th>2</th>\n",
       "      <td>&lt;http://dbpedia.org/resource/Harpdog_Brown&gt;</td>\n",
       "      <td>Harpdog Brown</td>\n",
       "      <td>harpdog brown is a singer and harmonica player who has been active in canadas blues scene since ...</td>\n",
       "    </tr>\n",
       "    <tr>\n",
       "      <th>3</th>\n",
       "      <td>&lt;http://dbpedia.org/resource/Franz_Rottensteiner&gt;</td>\n",
       "      <td>Franz Rottensteiner</td>\n",
       "      <td>franz rottensteiner born in waidmannsfeld lower austria austria on 18 january 1942 is an austria...</td>\n",
       "    </tr>\n",
       "    <tr>\n",
       "      <th>4</th>\n",
       "      <td>&lt;http://dbpedia.org/resource/G-Enka&gt;</td>\n",
       "      <td>G-Enka</td>\n",
       "      <td>henry krvits born 30 december 1974 in tallinn better known by his stagename genka is an estonian...</td>\n",
       "    </tr>\n",
       "  </tbody>\n",
       "</table>\n",
       "</div>"
      ]
     },
     "execution_count": 248,
     "metadata": {},
     "output_type": "execute_result"
    }
   ],
   "execution_count": 248
  },
  {
   "cell_type": "markdown",
   "metadata": {},
   "source": [
    "If you want to check whether the text on the webpage agrees with the one here, you can display it with the following code:"
   ]
  },
  {
   "cell_type": "code",
   "metadata": {
    "collapsed": true,
    "ExecuteTime": {
     "end_time": "2024-12-09T09:47:11.008165Z",
     "start_time": "2024-12-09T09:47:11.004800Z"
    }
   },
   "source": [
    "# from IPython.display import HTML\n",
    "# print(wiki['text'][0])\n",
    "# HTML(url=wiki['URI'][0])"
   ],
   "outputs": [],
   "execution_count": 249
  },
  {
   "cell_type": "markdown",
   "metadata": {},
   "source": [
    "## Ex. 1: Extract word count vectors"
   ]
  },
  {
   "cell_type": "markdown",
   "metadata": {},
   "source": [
    "As we have seen in Assignment 4, we can extract word count vectors using `CountVectorizer` function.\n",
    "- make sure you include words of unit length by using the parameter: `token_pattern=r\"(?u)\\b\\w+\\b\"`\n",
    "- do not use any stopwords\n",
    "- take 10000 most frequent words in the corpus\n",
    "- explicitly take all the words independent of in how many documents they occur\n",
    "- obtain the matrix of word counts"
   ]
  },
  {
   "metadata": {
    "ExecuteTime": {
     "end_time": "2024-12-09T09:47:11.065700Z",
     "start_time": "2024-12-09T09:47:11.062773Z"
    }
   },
   "cell_type": "code",
   "source": "",
   "outputs": [],
   "execution_count": null
  },
  {
   "metadata": {
    "ExecuteTime": {
     "end_time": "2024-12-09T09:47:23.362564Z",
     "start_time": "2024-12-09T09:47:11.256235Z"
    }
   },
   "cell_type": "code",
   "source": [
    "from sklearn.feature_extraction.text import CountVectorizer\n",
    "\n",
    "vectorizer = CountVectorizer(\n",
    "    max_features = 10000, # Only include 10,000 most frequent words\n",
    "    token_pattern=r\"(?u)\\b\\w+\\b\" # Include unit-length words\n",
    "   )\n",
    "WCmatrix = vectorizer.fit_transform(wiki['text'])"
   ],
   "outputs": [],
   "execution_count": 250
  },
  {
   "cell_type": "markdown",
   "metadata": {},
   "source": [
    "## Ex. 2: Find nearest neighbors"
   ]
  },
  {
   "cell_type": "markdown",
   "metadata": {},
   "source": [
    "**a)** Start by finding the nearest neighbors of the Barack Obama page using the above word count matrix to represent the articles and **Euclidean** distance to measure distance.\n",
    "Save the distances in `wiki['BO-eucl']` and look at the top 10 nearest neighbors."
   ]
  },
  {
   "cell_type": "code",
   "metadata": {
    "collapsed": true,
    "ExecuteTime": {
     "end_time": "2024-12-09T09:47:23.766219Z",
     "start_time": "2024-12-09T09:47:23.366578Z"
    }
   },
   "source": [
    "# One can use the following:\n",
    "    # from sklearn.neighbors import NearestNeighbors\n",
    "    # nbrs = NearestNeighbors(n_neighbors=3, algorithm='brute',metric='euclidean').fit(X.toarray())\n",
    "    # distances, indices = nbrs.kneighbors(X.toarray())\n",
    "# but here let's use:\n",
    "from sklearn.metrics import pairwise_distances\n",
    "\n",
    "obama_idx = wiki[wiki['name']=='Barack Obama'].index[0]\n",
    "\n",
    "dist = pairwise_distances(WCmatrix[obama_idx], WCmatrix, metric='euclidean').flatten()\n",
    "\n",
    "wiki['BO-eucl'] = dist\n"
   ],
   "outputs": [],
   "execution_count": 251
  },
  {
   "cell_type": "code",
   "metadata": {
    "collapsed": false,
    "ExecuteTime": {
     "end_time": "2024-12-09T09:47:23.883028Z",
     "start_time": "2024-12-09T09:47:23.867954Z"
    }
   },
   "source": [
    "\n",
    "top_neighbors = wiki.nsmallest(10, 'BO-eucl')\n",
    "print(top_neighbors[['name', 'BO-eucl', 'text']])\n"
   ],
   "outputs": [
    {
     "name": "stdout",
     "output_type": "stream",
     "text": [
      "      name                BO-eucl    \\\n",
      "35817       Barack Obama   0.000000   \n",
      "24478          Joe Biden  31.336879   \n",
      "28447     George W. Bush  33.645208   \n",
      "48202       Tony Vaccaro  33.734256   \n",
      "14754        Mitt Romney  34.351128   \n",
      "31423     Walter Mondale  34.423829   \n",
      "36364         Don Bonker  34.597688   \n",
      "13229   Francisco Barrio  34.669872   \n",
      "35357   Lawrence Summers  35.383612   \n",
      "25258  Marc Ravalomanana  35.440090   \n",
      "\n",
      "      text                                                                                                  \n",
      "35817  barack hussein obama ii brk husen bm born august 4 1961 is the 44th and current president of the...  \n",
      "24478  joseph robinette joe biden jr dosf rbnt badn born november 20 1942 is the 47th and current vice ...  \n",
      "28447  george walker bush born july 6 1946 is an american politician and businessman who served as the ...  \n",
      "48202  michelantonio celestino onofrio vaccaro born december 20 1922 better known as tony vaccaro or mi...  \n",
      "14754  willard mitt romney born march 12 1947 is an american politician and businessman who was the rep...  \n",
      "31423  walter frederick fritz mondale born january 5 1928 is an american democratic party politician wh...  \n",
      "36364  don leroy bonker born march 7 1937 in denver colorado is an american former congressman for the ...  \n",
      "13229  francisco javier barrio terrazas born november 25 1950 is a mexican politician affiliated to the...  \n",
      "35357  lawrence henry larry summers born november 30 1954 is an american economist who is president eme...  \n",
      "25258  marc ravalomanana malagasy ravalumanan born 12 december 1949 is a malagasy politician who was th...  \n"
     ]
    }
   ],
   "execution_count": 252
  },
  {
   "cell_type": "markdown",
   "metadata": {},
   "source": [
    "**b)** Measure the pairwise distance between the Wikipedia pages of Barack Obama, George W. Bush, and Joe Biden. Which of the three pairs has the smallest distance?"
   ]
  },
  {
   "cell_type": "code",
   "metadata": {
    "collapsed": false,
    "ExecuteTime": {
     "end_time": "2024-12-09T09:47:24.012678Z",
     "start_time": "2024-12-09T09:47:23.990992Z"
    }
   },
   "source": [
    "obama_idx = wiki[wiki['name']=='Barack Obama'].index[0]\n",
    "bush_idx = wiki[wiki['name']=='George W. Bush'].index[0]\n",
    "biden_idx = wiki[wiki['name']=='Joe Biden'].index[0]\n",
    "\n",
    "obama_biden_dist = pairwise_distances(WCmatrix[obama_idx], WCmatrix[biden_idx], metric='euclidean')[0][0]\n",
    "obama_bush_dist = pairwise_distances(WCmatrix[obama_idx], WCmatrix[bush_idx], metric='euclidean')[0][0]\n",
    "bush_biden_dist = pairwise_distances(WCmatrix[bush_idx], WCmatrix[biden_idx], metric='euclidean')[0][0]\n",
    "\n",
    "print(\"Obama-Biden distance: \", obama_biden_dist)\n",
    "print(\"Obama-Bush distance: \", obama_bush_dist)\n",
    "print(\"Bush-Biden distance: \", bush_biden_dist)"
   ],
   "outputs": [
    {
     "name": "stdout",
     "output_type": "stream",
     "text": [
      "Obama-Biden distance:  31.336879231984796\n",
      "Obama-Bush distance:  33.645207682521445\n",
      "Bush-Biden distance:  30.919249667480614\n"
     ]
    }
   ],
   "execution_count": 253
  },
  {
   "cell_type": "markdown",
   "metadata": {},
   "source": [
    "All of the 10 people from **a)** are politicians, but about half of them have rather tenuous connections with Obama, other than the fact that they are politicians, e.g.,\n",
    "\n",
    "* Francisco Barrio is a Mexican politician, and a former governor of Chihuahua.\n",
    "* Walter Mondale and Don Bonker are Democrats who made their career in late 1970s.\n",
    "\n",
    "Nearest neighbors with raw word counts got some things right, showing all politicians in the query result, but missed finer and important details."
   ]
  },
  {
   "cell_type": "markdown",
   "metadata": {},
   "source": [
    "**c)** Let's find out why Francisco Barrio was considered a close neighbor of Obama.\n",
    "To do this, look at the most frequently used words in each of Barack Obama and Francisco Barrio's pages."
   ]
  },
  {
   "cell_type": "code",
   "metadata": {
    "collapsed": true,
    "ExecuteTime": {
     "end_time": "2024-12-09T09:47:24.117700Z",
     "start_time": "2024-12-09T09:47:24.113069Z"
    }
   },
   "source": [
    "def top_words(name):\n",
    "    \"\"\"\n",
    "    Get a table of the most frequent words in the given person's wikipedia page.\n",
    "    \"\"\"\n",
    "    person_idx = wiki[wiki['name']==name].index[0]\n",
    "    word_counts = WCmatrix[person_idx].toarray().flatten()\n",
    "    words = pd.DataFrame({\n",
    "        'word': vectorizer.get_feature_names_out(),\n",
    "        'count': word_counts\n",
    "    })\n",
    "    \n",
    "    return words.sort_values(by='count',ascending=False)"
   ],
   "outputs": [],
   "execution_count": 254
  },
  {
   "cell_type": "code",
   "metadata": {
    "collapsed": false,
    "jupyter": {
     "outputs_hidden": false
    },
    "ExecuteTime": {
     "end_time": "2024-12-09T09:47:24.237728Z",
     "start_time": "2024-12-09T09:47:24.218185Z"
    }
   },
   "source": [
    "obama_words = top_words('Barack Obama').set_index('word')\n",
    "obama_words"
   ],
   "outputs": [
    {
     "data": {
      "text/plain": [
       "        count\n",
       "word         \n",
       "the     40   \n",
       "in      30   \n",
       "and     21   \n",
       "of      18   \n",
       "to      14   \n",
       "...       ...\n",
       "ethnic   0   \n",
       "eton     0   \n",
       "eu       0   \n",
       "eugene   0   \n",
       "zurich   0   \n",
       "\n",
       "[10000 rows x 1 columns]"
      ],
      "text/html": [
       "<div>\n",
       "<style scoped>\n",
       "    .dataframe tbody tr th:only-of-type {\n",
       "        vertical-align: middle;\n",
       "    }\n",
       "\n",
       "    .dataframe tbody tr th {\n",
       "        vertical-align: top;\n",
       "    }\n",
       "\n",
       "    .dataframe thead th {\n",
       "        text-align: right;\n",
       "    }\n",
       "</style>\n",
       "<table border=\"1\" class=\"dataframe\">\n",
       "  <thead>\n",
       "    <tr style=\"text-align: left;\">\n",
       "      <th></th>\n",
       "      <th>count</th>\n",
       "    </tr>\n",
       "    <tr>\n",
       "      <th>word</th>\n",
       "      <th></th>\n",
       "    </tr>\n",
       "  </thead>\n",
       "  <tbody>\n",
       "    <tr>\n",
       "      <th>the</th>\n",
       "      <td>40</td>\n",
       "    </tr>\n",
       "    <tr>\n",
       "      <th>in</th>\n",
       "      <td>30</td>\n",
       "    </tr>\n",
       "    <tr>\n",
       "      <th>and</th>\n",
       "      <td>21</td>\n",
       "    </tr>\n",
       "    <tr>\n",
       "      <th>of</th>\n",
       "      <td>18</td>\n",
       "    </tr>\n",
       "    <tr>\n",
       "      <th>to</th>\n",
       "      <td>14</td>\n",
       "    </tr>\n",
       "    <tr>\n",
       "      <th>...</th>\n",
       "      <td>...</td>\n",
       "    </tr>\n",
       "    <tr>\n",
       "      <th>ethnic</th>\n",
       "      <td>0</td>\n",
       "    </tr>\n",
       "    <tr>\n",
       "      <th>eton</th>\n",
       "      <td>0</td>\n",
       "    </tr>\n",
       "    <tr>\n",
       "      <th>eu</th>\n",
       "      <td>0</td>\n",
       "    </tr>\n",
       "    <tr>\n",
       "      <th>eugene</th>\n",
       "      <td>0</td>\n",
       "    </tr>\n",
       "    <tr>\n",
       "      <th>zurich</th>\n",
       "      <td>0</td>\n",
       "    </tr>\n",
       "  </tbody>\n",
       "</table>\n",
       "<p>10000 rows × 1 columns</p>\n",
       "</div>"
      ]
     },
     "execution_count": 255,
     "metadata": {},
     "output_type": "execute_result"
    }
   ],
   "execution_count": 255
  },
  {
   "cell_type": "code",
   "metadata": {
    "collapsed": false,
    "ExecuteTime": {
     "end_time": "2024-12-09T09:47:24.409417Z",
     "start_time": "2024-12-09T09:47:24.385794Z"
    }
   },
   "source": [
    "barrio_words = top_words('Francisco Barrio').set_index('word')\n",
    "barrio_words"
   ],
   "outputs": [
    {
     "data": {
      "text/plain": [
       "           count\n",
       "word            \n",
       "the        36   \n",
       "of         24   \n",
       "and        18   \n",
       "in         17   \n",
       "he         10   \n",
       "...          ...\n",
       "estate      0   \n",
       "estimated   0   \n",
       "estonia     0   \n",
       "estonian    0   \n",
       "zurich      0   \n",
       "\n",
       "[10000 rows x 1 columns]"
      ],
      "text/html": [
       "<div>\n",
       "<style scoped>\n",
       "    .dataframe tbody tr th:only-of-type {\n",
       "        vertical-align: middle;\n",
       "    }\n",
       "\n",
       "    .dataframe tbody tr th {\n",
       "        vertical-align: top;\n",
       "    }\n",
       "\n",
       "    .dataframe thead th {\n",
       "        text-align: right;\n",
       "    }\n",
       "</style>\n",
       "<table border=\"1\" class=\"dataframe\">\n",
       "  <thead>\n",
       "    <tr style=\"text-align: left;\">\n",
       "      <th></th>\n",
       "      <th>count</th>\n",
       "    </tr>\n",
       "    <tr>\n",
       "      <th>word</th>\n",
       "      <th></th>\n",
       "    </tr>\n",
       "  </thead>\n",
       "  <tbody>\n",
       "    <tr>\n",
       "      <th>the</th>\n",
       "      <td>36</td>\n",
       "    </tr>\n",
       "    <tr>\n",
       "      <th>of</th>\n",
       "      <td>24</td>\n",
       "    </tr>\n",
       "    <tr>\n",
       "      <th>and</th>\n",
       "      <td>18</td>\n",
       "    </tr>\n",
       "    <tr>\n",
       "      <th>in</th>\n",
       "      <td>17</td>\n",
       "    </tr>\n",
       "    <tr>\n",
       "      <th>he</th>\n",
       "      <td>10</td>\n",
       "    </tr>\n",
       "    <tr>\n",
       "      <th>...</th>\n",
       "      <td>...</td>\n",
       "    </tr>\n",
       "    <tr>\n",
       "      <th>estate</th>\n",
       "      <td>0</td>\n",
       "    </tr>\n",
       "    <tr>\n",
       "      <th>estimated</th>\n",
       "      <td>0</td>\n",
       "    </tr>\n",
       "    <tr>\n",
       "      <th>estonia</th>\n",
       "      <td>0</td>\n",
       "    </tr>\n",
       "    <tr>\n",
       "      <th>estonian</th>\n",
       "      <td>0</td>\n",
       "    </tr>\n",
       "    <tr>\n",
       "      <th>zurich</th>\n",
       "      <td>0</td>\n",
       "    </tr>\n",
       "  </tbody>\n",
       "</table>\n",
       "<p>10000 rows × 1 columns</p>\n",
       "</div>"
      ]
     },
     "execution_count": 256,
     "metadata": {},
     "output_type": "execute_result"
    }
   ],
   "execution_count": 256
  },
  {
   "cell_type": "markdown",
   "metadata": {},
   "source": [
    "**d)** Extract the list of most frequent **common** words that appear in both Obama's and Barrio's documents and display the five words that appear most often in Barrio's article.\n",
    "\n",
    "Use a dataframe operation known as **join**. The **join** operation is very useful when it comes to playing around with data: it lets you combine the content of two tables using a shared column (in this case, the index column of words). See [the documentation](https://pandas.pydata.org/pandas-docs/stable/reference/api/pandas.DataFrame.join.html) for more details."
   ]
  },
  {
   "cell_type": "code",
   "metadata": {
    "collapsed": false,
    "jupyter": {
     "outputs_hidden": false
    },
    "ExecuteTime": {
     "end_time": "2024-12-09T09:47:24.489594Z",
     "start_time": "2024-12-09T09:47:24.476469Z"
    }
   },
   "source": [
    "# Modify the code to avoid error.\n",
    "\n",
    "common_words = obama_words.join(barrio_words, lsuffix='_Obama', rsuffix='_Barrio')\n",
    "\n",
    "common_words.sort_values(by='count_Barrio', ascending=False).head(5)"
   ],
   "outputs": [
    {
     "data": {
      "text/plain": [
       "      count_Obama  count_Barrio\n",
       "word                           \n",
       "the   40           36          \n",
       "of    18           24          \n",
       "and   21           18          \n",
       "in    30           17          \n",
       "he     7           10          "
      ],
      "text/html": [
       "<div>\n",
       "<style scoped>\n",
       "    .dataframe tbody tr th:only-of-type {\n",
       "        vertical-align: middle;\n",
       "    }\n",
       "\n",
       "    .dataframe tbody tr th {\n",
       "        vertical-align: top;\n",
       "    }\n",
       "\n",
       "    .dataframe thead th {\n",
       "        text-align: right;\n",
       "    }\n",
       "</style>\n",
       "<table border=\"1\" class=\"dataframe\">\n",
       "  <thead>\n",
       "    <tr style=\"text-align: left;\">\n",
       "      <th></th>\n",
       "      <th>count_Obama</th>\n",
       "      <th>count_Barrio</th>\n",
       "    </tr>\n",
       "    <tr>\n",
       "      <th>word</th>\n",
       "      <th></th>\n",
       "      <th></th>\n",
       "    </tr>\n",
       "  </thead>\n",
       "  <tbody>\n",
       "    <tr>\n",
       "      <th>the</th>\n",
       "      <td>40</td>\n",
       "      <td>36</td>\n",
       "    </tr>\n",
       "    <tr>\n",
       "      <th>of</th>\n",
       "      <td>18</td>\n",
       "      <td>24</td>\n",
       "    </tr>\n",
       "    <tr>\n",
       "      <th>and</th>\n",
       "      <td>21</td>\n",
       "      <td>18</td>\n",
       "    </tr>\n",
       "    <tr>\n",
       "      <th>in</th>\n",
       "      <td>30</td>\n",
       "      <td>17</td>\n",
       "    </tr>\n",
       "    <tr>\n",
       "      <th>he</th>\n",
       "      <td>7</td>\n",
       "      <td>10</td>\n",
       "    </tr>\n",
       "  </tbody>\n",
       "</table>\n",
       "</div>"
      ]
     },
     "execution_count": 257,
     "metadata": {},
     "output_type": "execute_result"
    }
   ],
   "execution_count": 257
  },
  {
   "cell_type": "markdown",
   "metadata": {},
   "source": [
    "Collect all words that appear both in Barack Obama and George W. Bush pages.  Out of those words, find the 10 words that show up most often in Obama's page. "
   ]
  },
  {
   "cell_type": "code",
   "metadata": {
    "collapsed": false,
    "ExecuteTime": {
     "end_time": "2024-12-09T09:47:24.646961Z",
     "start_time": "2024-12-09T09:47:24.616631Z"
    }
   },
   "source": [
    "bush_words = top_words('George W. Bush').set_index('word')\n",
    "common_words = obama_words.join(bush_words, lsuffix='_Obama', rsuffix='_Bush', how='inner')\n",
    "common_words = common_words[(common_words['count_Obama'] > 0) & (common_words['count_Bush'] > 0)]\n",
    "top_common_words = common_words.sort_values(by='count_Obama', ascending=False).head(10)\n",
    "top_common_words"
   ],
   "outputs": [
    {
     "data": {
      "text/plain": [
       "      count_Obama  count_Bush\n",
       "word                         \n",
       "the   40           39        \n",
       "in    30           22        \n",
       "and   21           14        \n",
       "of    18           14        \n",
       "to    14           11        \n",
       "his   11            6        \n",
       "act    8            3        \n",
       "he     7            8        \n",
       "a      7            6        \n",
       "as     6            6        "
      ],
      "text/html": [
       "<div>\n",
       "<style scoped>\n",
       "    .dataframe tbody tr th:only-of-type {\n",
       "        vertical-align: middle;\n",
       "    }\n",
       "\n",
       "    .dataframe tbody tr th {\n",
       "        vertical-align: top;\n",
       "    }\n",
       "\n",
       "    .dataframe thead th {\n",
       "        text-align: right;\n",
       "    }\n",
       "</style>\n",
       "<table border=\"1\" class=\"dataframe\">\n",
       "  <thead>\n",
       "    <tr style=\"text-align: left;\">\n",
       "      <th></th>\n",
       "      <th>count_Obama</th>\n",
       "      <th>count_Bush</th>\n",
       "    </tr>\n",
       "    <tr>\n",
       "      <th>word</th>\n",
       "      <th></th>\n",
       "      <th></th>\n",
       "    </tr>\n",
       "  </thead>\n",
       "  <tbody>\n",
       "    <tr>\n",
       "      <th>the</th>\n",
       "      <td>40</td>\n",
       "      <td>39</td>\n",
       "    </tr>\n",
       "    <tr>\n",
       "      <th>in</th>\n",
       "      <td>30</td>\n",
       "      <td>22</td>\n",
       "    </tr>\n",
       "    <tr>\n",
       "      <th>and</th>\n",
       "      <td>21</td>\n",
       "      <td>14</td>\n",
       "    </tr>\n",
       "    <tr>\n",
       "      <th>of</th>\n",
       "      <td>18</td>\n",
       "      <td>14</td>\n",
       "    </tr>\n",
       "    <tr>\n",
       "      <th>to</th>\n",
       "      <td>14</td>\n",
       "      <td>11</td>\n",
       "    </tr>\n",
       "    <tr>\n",
       "      <th>his</th>\n",
       "      <td>11</td>\n",
       "      <td>6</td>\n",
       "    </tr>\n",
       "    <tr>\n",
       "      <th>act</th>\n",
       "      <td>8</td>\n",
       "      <td>3</td>\n",
       "    </tr>\n",
       "    <tr>\n",
       "      <th>he</th>\n",
       "      <td>7</td>\n",
       "      <td>8</td>\n",
       "    </tr>\n",
       "    <tr>\n",
       "      <th>a</th>\n",
       "      <td>7</td>\n",
       "      <td>6</td>\n",
       "    </tr>\n",
       "    <tr>\n",
       "      <th>as</th>\n",
       "      <td>6</td>\n",
       "      <td>6</td>\n",
       "    </tr>\n",
       "  </tbody>\n",
       "</table>\n",
       "</div>"
      ]
     },
     "execution_count": 258,
     "metadata": {},
     "output_type": "execute_result"
    }
   ],
   "execution_count": 258
  },
  {
   "cell_type": "markdown",
   "metadata": {},
   "source": [
    "**Note.** Even though common words are swamping out important subtle differences, commonalities in rarer political words still matter on the margin. This is why politicians are being listed in the query result instead of musicians, for example. In the next subsection, we will introduce a different metric that will place greater emphasis on those rarer words."
   ]
  },
  {
   "cell_type": "markdown",
   "metadata": {},
   "source": [
    "**e)** Among the words that appear in both Barack Obama and Francisco Barrio, take the 15 that appear most frequently in Obama. How many of the articles in the Wikipedia dataset contain all of those 15 words? Which are they?"
   ]
  },
  {
   "cell_type": "code",
   "metadata": {
    "collapsed": false,
    "ExecuteTime": {
     "end_time": "2024-12-09T09:47:24.901387Z",
     "start_time": "2024-12-09T09:47:24.762990Z"
    }
   },
   "source": [
    "# It might be helpful to use:\n",
    "word_to_ind={v: i for i, v in enumerate(vectorizer.get_feature_names_out())} # a dictionary with words as keys and indices as values\n",
    "\n",
    "# Your code goes here\n",
    "bush_words = top_words('George W. Bush').set_index('word')\n",
    "common_words = obama_words.join(bush_words, lsuffix='_Obama', rsuffix='_Bush', how='inner')\n",
    "common_words = common_words[(common_words['count_Obama'] > 0) & (common_words['count_Bush'] > 0)]\n",
    "top_common_words = common_words.sort_values(by='count_Obama', ascending=False).head(15)\n",
    "\n",
    "top_15_obama_words = top_common_words.index\n",
    "print(top_15_obama_words)\n",
    "\n",
    "top_15_indices = [word_to_ind[word] for word in top_15_obama_words]\n",
    "articles_containing_top_15 = (WCmatrix[:, top_15_indices] > 0).toarray().all(axis=1)\n",
    "articles_with_top_15_count = articles_containing_top_15.sum()\n",
    "articles_with_top_15_names = wiki[articles_containing_top_15]['name']"
   ],
   "outputs": [
    {
     "name": "stdout",
     "output_type": "stream",
     "text": [
      "Index(['the', 'in', 'and', 'of', 'to', 'his', 'act', 'he', 'a', 'as', 'law',\n",
      "       'was', 'after', 'president', 'has'],\n",
      "      dtype='object', name='word')\n"
     ]
    }
   ],
   "execution_count": 259
  },
  {
   "cell_type": "code",
   "metadata": {
    "collapsed": false,
    "ExecuteTime": {
     "end_time": "2024-12-09T09:47:25.040993Z",
     "start_time": "2024-12-09T09:47:25.035467Z"
    }
   },
   "source": [
    "print(f\"Number of articles containing all 15 words: {articles_with_top_15_count}\")\n",
    "print(\"Names of articles containing all 15 words:\")\n",
    "print(articles_with_top_15_names)"
   ],
   "outputs": [
    {
     "name": "stdout",
     "output_type": "stream",
     "text": [
      "Number of articles containing all 15 words: 41\n",
      "Names of articles containing all 15 words:\n",
      "855                                     Whitey Bulger\n",
      "1560                                       Rip Rapson\n",
      "3166                                    Bernie Zaleha\n",
      "4096                                 Sheffield Nelson\n",
      "4408                                    Joe Lieberman\n",
      "4874                                    Bernard Kenny\n",
      "5000                                    Donne Trotter\n",
      "7577                              Charles Hopel Brown\n",
      "10437                                  David J. Hayes\n",
      "13508    David Anderson (British Columbia politician)\n",
      "13743                     Felix Magalela Mafa Sibanda\n",
      "14874                                      Tom Fitton\n",
      "15106                                John Khetsuriani\n",
      "17765                                   Mike Thurmond\n",
      "18893                   Gast%C3%B3n Mansilla Yupanqui\n",
      "20373                                   Kenneth Keith\n",
      "21001                                    Monroe Price\n",
      "22593                                 Francisco Duque\n",
      "23553                              William C. Kuebler\n",
      "24284                                 Ramakant Khalap\n",
      "26459                         Pedro Nava (politician)\n",
      "28447                                  George W. Bush\n",
      "30766                                Homer Pithawalla\n",
      "33814        William Lloyd George, 3rd Viscount Tenby\n",
      "35817                                    Barack Obama\n",
      "36589                                     Russ DeLeon\n",
      "37667                                    Clay D. Land\n",
      "38009                                  Marc Rotenberg\n",
      "44485                                   Rick Santorum\n",
      "45586                                    Robbie Wills\n",
      "46321                                    Orde Kittrie\n",
      "46629                                  Tom Birmingham\n",
      "48013                                        Sim Lake\n",
      "48253                         Saber Hossain Chowdhury\n",
      "49872                                   Lowell Barron\n",
      "50664                             Bradley M. Campbell\n",
      "51271                        Volker Beck (politician)\n",
      "52768                                     Garry Mauro\n",
      "55203                               Richard Goldstone\n",
      "56569                                   Rodney Croome\n",
      "58455                            Christos Sartzetakis\n",
      "Name: name, dtype: object\n"
     ]
    }
   ],
   "execution_count": 260
  },
  {
   "cell_type": "markdown",
   "metadata": {},
   "source": [
    "## Ex. 3: TF-IDF to the rescue"
   ]
  },
  {
   "cell_type": "markdown",
   "metadata": {},
   "source": [
    "Much of the perceived commonalities between Obama and Barrio were due to occurrences of extremely frequent words, such as \"the\", \"and\", and \"his\". So nearest neighbors is recommending plausible results sometimes for the wrong reasons.\n",
    "\n",
    "To retrieve articles that are more relevant, we should focus more on rare words that don't happen in every article. **TF-IDF** (term frequency–inverse document frequency) is a feature representation that penalizes words that are too common."
   ]
  },
  {
   "cell_type": "markdown",
   "metadata": {},
   "source": [
    "**a)** Repeat the search for the 10 nearest neighbors of Barack Obama with Euclidean distance of TF-IDF. This time do not limit to only 10000 most frequent words, but take all of them."
   ]
  },
  {
   "cell_type": "code",
   "metadata": {
    "collapsed": true,
    "ExecuteTime": {
     "end_time": "2024-12-09T09:47:39.185972Z",
     "start_time": "2024-12-09T09:47:25.109601Z"
    }
   },
   "source": [
    "# We could use:\n",
    "# from sklearn.feature_extraction.text import TfidfVectorizer\n",
    "# but since we already know how to compute CountVectorizer, let's use:\n",
    "from sklearn.feature_extraction.text import TfidfTransformer\n",
    "\n",
    "vectorizer = CountVectorizer()\n",
    "WCmatrix = vectorizer.fit_transform(wiki['text'])\n",
    "\n",
    "tfidf = TfidfTransformer(smooth_idf=False, norm=None)  # Your code goes here; use smooth_idf=False, norm=None\n",
    "TFIDFmatrix = tfidf.fit_transform(WCmatrix)"
   ],
   "outputs": [],
   "execution_count": 261
  },
  {
   "cell_type": "code",
   "metadata": {
    "collapsed": false,
    "ExecuteTime": {
     "end_time": "2024-12-09T09:47:39.478540Z",
     "start_time": "2024-12-09T09:47:39.216753Z"
    }
   },
   "source": [
    "# now recompute the distances as before but for TF-IDF\n",
    "obama_idx = wiki[wiki['name']=='Barack Obama'].index[0]\n",
    "dist = pairwise_distances(TFIDFmatrix[obama_idx], TFIDFmatrix, metric='euclidean').flatten()\n",
    "# add the distances as a column in the wiki dataframe\n",
    "wiki['BO-eucl-TF-IDF'] = dist\n",
    "nearest_neighbors = wiki.sort_values(by='BO-eucl-TF-IDF').head(10)\n",
    "print(nearest_neighbors[['name', 'BO-eucl-TF-IDF']])"
   ],
   "outputs": [
    {
     "name": "stdout",
     "output_type": "stream",
     "text": [
      "      name                      BO-eucl-TF-IDF\n",
      "35817             Barack Obama    0.000000    \n",
      "38376           Samantha Power  139.271406    \n",
      "46811            Jeff Sessions  139.529421    \n",
      "7914             Phil Schiliro  139.704909    \n",
      "38714  Eric Stern (politician)  140.267606    \n",
      "6507              Bob Menendez  141.376678    \n",
      "44681   Jesse Lee (politician)  142.194418    \n",
      "6796               Eric Holder  142.391897    \n",
      "38495             Barney Frank  142.490351    \n",
      "56008            Nathan Cullen  142.646018    \n"
     ]
    }
   ],
   "execution_count": 262
  },
  {
   "cell_type": "markdown",
   "metadata": {},
   "source": [
    "Let's determine whether this list makes sense.\n",
    "* With a notable exception of Nathan Cullen, the other 8 are all American politicians who are contemporaries of Barack Obama.\n",
    "* Phil Schiliro, Jesse Lee, Samantha Power, Eric Stern, Eric Holder worked for Obama.\n",
    "\n",
    "Clearly, the results are more plausible with the use of TF-IDF. Let's take a look at the word vector for Obama and Schilirio's pages. Notice that TF-IDF representation assigns a weight to each word. This weight captures relative importance of that word in the document."
   ]
  },
  {
   "cell_type": "markdown",
   "metadata": {},
   "source": [
    "**b)** Sort the words in Obama's article by their TF-IDF weights; do the same for Schiliro's article as well.\n",
    "Using the **join** operation we learned earlier, compute the common words shared by Obama's and Schiliro's articles.\n",
    "Sort the common words by their TF-IDF weights in Obama's document."
   ]
  },
  {
   "cell_type": "code",
   "metadata": {
    "collapsed": true,
    "ExecuteTime": {
     "end_time": "2024-12-09T09:47:39.513304Z",
     "start_time": "2024-12-09T09:47:39.507689Z"
    }
   },
   "source": [
    "def top_words_tf_idf(name):\n",
    "    \"\"\"\n",
    "    Get a table of the largest tf-idf words in the given person's wikipedia page.\n",
    "    \"\"\"\n",
    "    # Your code goes here\n",
    "    \n",
    "    person_idx = wiki[wiki['name']==name].index[0]\n",
    "    tfidf_vector = TFIDFmatrix[person_idx].toarray().flatten()\n",
    "    \n",
    "    df = pd.DataFrame({\n",
    "        'word': vectorizer.get_feature_names_out(),\n",
    "        'tf-idf': tfidf_vector\n",
    "    })\n",
    "    \n",
    "    return df.sort_values(by='tf-idf',ascending=False)"
   ],
   "outputs": [],
   "execution_count": 263
  },
  {
   "cell_type": "code",
   "metadata": {
    "collapsed": false,
    "jupyter": {
     "outputs_hidden": false
    },
    "ExecuteTime": {
     "end_time": "2024-12-09T09:47:41.582118Z",
     "start_time": "2024-12-09T09:47:39.546265Z"
    }
   },
   "source": [
    "\n",
    "obama_tf_idf = top_words_tf_idf('Barack Obama')\n",
    "schiliro_tf_idf = top_words_tf_idf('Phil Schiliro')\n",
    "common_words = obama_tf_idf.set_index('word').join(schiliro_tf_idf.set_index('word'), lsuffix='_Obama', rsuffix='_Schiliro', how='inner')\n",
    "common_words = common_words[(common_words['tf-idf_Obama'] > 0) & (common_words['tf-idf_Schiliro'] > 0)]\n",
    "common_words_sorted = common_words.sort_values(by='tf-idf_Obama', ascending=False)\n",
    "print(common_words_sorted)"
   ],
   "outputs": [
    {
     "name": "stdout",
     "output_type": "stream",
     "text": [
      "                tf-idf_Obama  tf-idf_Schiliro\n",
      "word                                         \n",
      "obama           52.295653     11.621256      \n",
      "the             40.004063     10.001016      \n",
      "in              30.028962      5.004827      \n",
      "and             21.015648      6.004471      \n",
      "law             20.722936     10.361468      \n",
      "of              18.074811      9.037406      \n",
      "democratic      16.410689      8.205344      \n",
      "to              14.657229      7.328615      \n",
      "his             13.888726      1.262611      \n",
      "senate          13.164288      4.388096      \n",
      "president       11.226869     14.033587      \n",
      "presidential     9.386955      4.693478      \n",
      "he               8.493580     13.347054      \n",
      "states           8.473201      2.824400      \n",
      "2011             8.107041      5.404694      \n",
      "policy           8.095386      4.047693      \n",
      "2004             8.071033      2.690344      \n",
      "united           7.703766      2.567922      \n",
      "2009             7.693309      2.564436      \n",
      "office           7.248173      3.624086      \n",
      "as               6.763017      4.508678      \n",
      "school           6.668362      2.222787      \n",
      "house            6.651096      6.651096      \n",
      "american         6.382133      2.127378      \n",
      "barack           6.067602      6.067602      \n",
      "unsuccessfully   5.831637      5.831637      \n",
      "has              5.713990      2.856995      \n",
      "was              5.396829      4.317463      \n",
      "reform           5.092839      5.092839      \n",
      "served           5.072545      5.072545      \n",
      "care             4.916621      4.916621      \n",
      "relations        4.445874      4.445874      \n",
      "for              4.291450      4.291450      \n",
      "review           4.227735      4.227735      \n",
      "down             3.947661      3.947661      \n",
      "from             3.881266      2.587511      \n",
      "university       3.694686      1.847343      \n",
      "graduate         3.675097      3.675097      \n",
      "2013             2.954564      2.954564      \n",
      "worked           2.553972      2.553972      \n",
      "2008             2.509416      2.509416      \n",
      "before           2.496782      2.496782      \n",
      "on               2.368826      4.737651      \n",
      "where            2.089076      2.089076      \n",
      "is               2.055233      2.055233      \n",
      "that             1.661407      1.661407      \n"
     ]
    }
   ],
   "execution_count": 264
  },
  {
   "cell_type": "markdown",
   "metadata": {},
   "source": [
    "**c)** Among the words that appear in both Barack Obama and Phil Schiliro, take the 15 that have largest weights in Obama. How many of the articles in the Wikipedia dataset contain all of those 15 words? Which are they?"
   ]
  },
  {
   "cell_type": "code",
   "metadata": {
    "collapsed": false,
    "ExecuteTime": {
     "end_time": "2024-12-09T09:47:42.438882Z",
     "start_time": "2024-12-09T09:47:41.628417Z"
    }
   },
   "source": [
    "# It might be helpful to use:\n",
    "word_to_ind={v: i for i, v in enumerate(vectorizer.get_feature_names_out())} # a dictionary with words as keys and indices as values\n",
    "\n",
    "# Your code goes here\n",
    "top_15_obama_words = common_words_sorted.head(15).index\n",
    "print(top_15_obama_words)\n",
    "\n",
    "top_15_indices = [word_to_ind[word] for word in top_15_obama_words]\n",
    "print(top_15_indices)\n",
    "\n",
    "articles_containing_top_15 = (WCmatrix[:, top_15_indices] > 0).toarray().all(axis=1)\n",
    "articles_with_top_15_count = articles_containing_top_15.sum()\n",
    "articles_with_top_15_names = wiki[articles_containing_top_15]['name']\n",
    "\n",
    "print(f\"Number of articles containing all 15 words: {articles_with_top_15_count}\")\n",
    "print(\"Names of articles containing all 15 words:\")\n",
    "print(articles_with_top_15_names)"
   ],
   "outputs": [
    {
     "name": "stdout",
     "output_type": "stream",
     "text": [
      "Index(['obama', 'the', 'in', 'and', 'law', 'of', 'democratic', 'to', 'his',\n",
      "       'senate', 'president', 'presidential', 'he', 'states', '2011'],\n",
      "      dtype='object', name='word')\n",
      "[358557, 488148, 251905, 58906, 292511, 360068, 155936, 494541, 239271, 442595, 395598, 395661, 233774, 466805, 25312]\n",
      "Number of articles containing all 15 words: 3\n",
      "Names of articles containing all 15 words:\n",
      "7914     Phil Schiliro\n",
      "24478        Joe Biden\n",
      "35817     Barack Obama\n",
      "Name: name, dtype: object\n"
     ]
    }
   ],
   "execution_count": 265
  },
  {
   "cell_type": "markdown",
   "metadata": {},
   "source": [
    "Notice the huge difference in this calculation using TF-IDF scores instead  of raw word counts. We've eliminated noise arising from extremely common words."
   ]
  },
  {
   "cell_type": "markdown",
   "metadata": {},
   "source": [
    "## Ex. 4: Choosing metrics"
   ]
  },
  {
   "cell_type": "markdown",
   "metadata": {},
   "source": [
    "**a)** Compute the Euclidean distance between TF-IDF features of Obama and Biden."
   ]
  },
  {
   "cell_type": "code",
   "metadata": {
    "collapsed": false,
    "ExecuteTime": {
     "end_time": "2024-12-09T09:47:42.568158Z",
     "start_time": "2024-12-09T09:47:42.548520Z"
    }
   },
   "source": [
    "from scipy.spatial.distance import euclidean\n",
    "obama_idx = wiki[wiki['name']=='Barack Obama'].index[0]\n",
    "biden_idx = wiki[wiki['name']=='Joe Biden'].index[0]\n",
    "\n",
    "obama_vector = TFIDFmatrix[obama_idx]\n",
    "biden_vector = TFIDFmatrix[biden_idx]\n",
    "\n",
    "dist = euclidean(obama_vector.toarray().flatten(), biden_vector.toarray().flatten())\n",
    "print(dist)\n"
   ],
   "outputs": [
    {
     "name": "stdout",
     "output_type": "stream",
     "text": [
      "148.65027384625904\n"
     ]
    }
   ],
   "execution_count": 266
  },
  {
   "cell_type": "markdown",
   "metadata": {},
   "source": [
    "The distance is larger than the distances we found for the 10 nearest neighbors, which we repeat here for readability:"
   ]
  },
  {
   "cell_type": "code",
   "metadata": {
    "collapsed": false,
    "jupyter": {
     "outputs_hidden": false
    },
    "ExecuteTime": {
     "end_time": "2024-12-09T09:47:42.702451Z",
     "start_time": "2024-12-09T09:47:42.678932Z"
    }
   },
   "source": "wiki.sort_values(by='BO-eucl-TF-IDF',ascending=True)[['name','BO-eucl-TF-IDF']][0:10]",
   "outputs": [
    {
     "data": {
      "text/plain": [
       "      name                      BO-eucl-TF-IDF\n",
       "35817             Barack Obama    0.000000    \n",
       "38376           Samantha Power  139.271406    \n",
       "46811            Jeff Sessions  139.529421    \n",
       "7914             Phil Schiliro  139.704909    \n",
       "38714  Eric Stern (politician)  140.267606    \n",
       "6507              Bob Menendez  141.376678    \n",
       "44681   Jesse Lee (politician)  142.194418    \n",
       "6796               Eric Holder  142.391897    \n",
       "38495             Barney Frank  142.490351    \n",
       "56008            Nathan Cullen  142.646018    "
      ],
      "text/html": [
       "<div>\n",
       "<style scoped>\n",
       "    .dataframe tbody tr th:only-of-type {\n",
       "        vertical-align: middle;\n",
       "    }\n",
       "\n",
       "    .dataframe tbody tr th {\n",
       "        vertical-align: top;\n",
       "    }\n",
       "\n",
       "    .dataframe thead th {\n",
       "        text-align: right;\n",
       "    }\n",
       "</style>\n",
       "<table border=\"1\" class=\"dataframe\">\n",
       "  <thead>\n",
       "    <tr style=\"text-align: left;\">\n",
       "      <th></th>\n",
       "      <th>name</th>\n",
       "      <th>BO-eucl-TF-IDF</th>\n",
       "    </tr>\n",
       "  </thead>\n",
       "  <tbody>\n",
       "    <tr>\n",
       "      <th>35817</th>\n",
       "      <td>Barack Obama</td>\n",
       "      <td>0.000000</td>\n",
       "    </tr>\n",
       "    <tr>\n",
       "      <th>38376</th>\n",
       "      <td>Samantha Power</td>\n",
       "      <td>139.271406</td>\n",
       "    </tr>\n",
       "    <tr>\n",
       "      <th>46811</th>\n",
       "      <td>Jeff Sessions</td>\n",
       "      <td>139.529421</td>\n",
       "    </tr>\n",
       "    <tr>\n",
       "      <th>7914</th>\n",
       "      <td>Phil Schiliro</td>\n",
       "      <td>139.704909</td>\n",
       "    </tr>\n",
       "    <tr>\n",
       "      <th>38714</th>\n",
       "      <td>Eric Stern (politician)</td>\n",
       "      <td>140.267606</td>\n",
       "    </tr>\n",
       "    <tr>\n",
       "      <th>6507</th>\n",
       "      <td>Bob Menendez</td>\n",
       "      <td>141.376678</td>\n",
       "    </tr>\n",
       "    <tr>\n",
       "      <th>44681</th>\n",
       "      <td>Jesse Lee (politician)</td>\n",
       "      <td>142.194418</td>\n",
       "    </tr>\n",
       "    <tr>\n",
       "      <th>6796</th>\n",
       "      <td>Eric Holder</td>\n",
       "      <td>142.391897</td>\n",
       "    </tr>\n",
       "    <tr>\n",
       "      <th>38495</th>\n",
       "      <td>Barney Frank</td>\n",
       "      <td>142.490351</td>\n",
       "    </tr>\n",
       "    <tr>\n",
       "      <th>56008</th>\n",
       "      <td>Nathan Cullen</td>\n",
       "      <td>142.646018</td>\n",
       "    </tr>\n",
       "  </tbody>\n",
       "</table>\n",
       "</div>"
      ]
     },
     "execution_count": 267,
     "metadata": {},
     "output_type": "execute_result"
    }
   ],
   "execution_count": 267
  },
  {
   "cell_type": "markdown",
   "metadata": {},
   "source": [
    "But one may wonder, is Biden's article that different from Obama's, more so than, say, Schiliro's? It turns out that, when we compute nearest neighbors using the Euclidean distances, we unwittingly favor short articles over long ones."
   ]
  },
  {
   "cell_type": "markdown",
   "metadata": {},
   "source": [
    "**b)** Let us compute the length of each Wikipedia document, and examine the document lengths for the 100 nearest neighbors to Obama's page. To compute text length use the same splitting rules you used in `vectorizer`."
   ]
  },
  {
   "cell_type": "code",
   "metadata": {
    "collapsed": false,
    "jupyter": {
     "outputs_hidden": false
    },
    "ExecuteTime": {
     "end_time": "2024-12-09T09:47:47.364242Z",
     "start_time": "2024-12-09T09:47:42.847454Z"
    }
   },
   "source": [
    "tokenizer = vectorizer.build_tokenizer()\n",
    "\n",
    "def compute_length(text):\n",
    "# Here we could use simply:\n",
    "#     return len(row['text'].split(' '))\n",
    "    return len(tokenizer(text))\n",
    "\n",
    "wiki['length'] = wiki['text'].apply(compute_length)"
   ],
   "outputs": [],
   "execution_count": 268
  },
  {
   "cell_type": "code",
   "metadata": {
    "collapsed": false,
    "jupyter": {
     "outputs_hidden": false
    },
    "ExecuteTime": {
     "end_time": "2024-12-09T09:47:47.421459Z",
     "start_time": "2024-12-09T09:47:47.394068Z"
    }
   },
   "source": [
    "nearest_neighbors_euclidean = wiki.sort_values(by='BO-eucl-TF-IDF',ascending=True)[['name','BO-eucl-TF-IDF']][0:100]\n",
    "\n",
    "nearest_neighbors_euclidean['length'] = wiki.loc[nearest_neighbors_euclidean.index]['length']\n",
    "nearest_neighbors_euclidean"
   ],
   "outputs": [
    {
     "data": {
      "text/plain": [
       "      name                      BO-eucl-TF-IDF  length\n",
       "35817             Barack Obama    0.000000      531   \n",
       "38376           Samantha Power  139.271406      303   \n",
       "46811            Jeff Sessions  139.529421      226   \n",
       "7914             Phil Schiliro  139.704909      203   \n",
       "38714  Eric Stern (politician)  140.267606      253   \n",
       "...                        ...             ...     ...\n",
       "5620                Jon Butler  146.536113      203   \n",
       "11779             Howard Alper  146.587806      194   \n",
       "46204              Alan Heslop  146.660225      202   \n",
       "8277          John M. Facciola  146.674672      200   \n",
       "58229            Douglas Henry  146.687733      213   \n",
       "\n",
       "[100 rows x 3 columns]"
      ],
      "text/html": [
       "<div>\n",
       "<style scoped>\n",
       "    .dataframe tbody tr th:only-of-type {\n",
       "        vertical-align: middle;\n",
       "    }\n",
       "\n",
       "    .dataframe tbody tr th {\n",
       "        vertical-align: top;\n",
       "    }\n",
       "\n",
       "    .dataframe thead th {\n",
       "        text-align: right;\n",
       "    }\n",
       "</style>\n",
       "<table border=\"1\" class=\"dataframe\">\n",
       "  <thead>\n",
       "    <tr style=\"text-align: left;\">\n",
       "      <th></th>\n",
       "      <th>name</th>\n",
       "      <th>BO-eucl-TF-IDF</th>\n",
       "      <th>length</th>\n",
       "    </tr>\n",
       "  </thead>\n",
       "  <tbody>\n",
       "    <tr>\n",
       "      <th>35817</th>\n",
       "      <td>Barack Obama</td>\n",
       "      <td>0.000000</td>\n",
       "      <td>531</td>\n",
       "    </tr>\n",
       "    <tr>\n",
       "      <th>38376</th>\n",
       "      <td>Samantha Power</td>\n",
       "      <td>139.271406</td>\n",
       "      <td>303</td>\n",
       "    </tr>\n",
       "    <tr>\n",
       "      <th>46811</th>\n",
       "      <td>Jeff Sessions</td>\n",
       "      <td>139.529421</td>\n",
       "      <td>226</td>\n",
       "    </tr>\n",
       "    <tr>\n",
       "      <th>7914</th>\n",
       "      <td>Phil Schiliro</td>\n",
       "      <td>139.704909</td>\n",
       "      <td>203</td>\n",
       "    </tr>\n",
       "    <tr>\n",
       "      <th>38714</th>\n",
       "      <td>Eric Stern (politician)</td>\n",
       "      <td>140.267606</td>\n",
       "      <td>253</td>\n",
       "    </tr>\n",
       "    <tr>\n",
       "      <th>...</th>\n",
       "      <td>...</td>\n",
       "      <td>...</td>\n",
       "      <td>...</td>\n",
       "    </tr>\n",
       "    <tr>\n",
       "      <th>5620</th>\n",
       "      <td>Jon Butler</td>\n",
       "      <td>146.536113</td>\n",
       "      <td>203</td>\n",
       "    </tr>\n",
       "    <tr>\n",
       "      <th>11779</th>\n",
       "      <td>Howard Alper</td>\n",
       "      <td>146.587806</td>\n",
       "      <td>194</td>\n",
       "    </tr>\n",
       "    <tr>\n",
       "      <th>46204</th>\n",
       "      <td>Alan Heslop</td>\n",
       "      <td>146.660225</td>\n",
       "      <td>202</td>\n",
       "    </tr>\n",
       "    <tr>\n",
       "      <th>8277</th>\n",
       "      <td>John M. Facciola</td>\n",
       "      <td>146.674672</td>\n",
       "      <td>200</td>\n",
       "    </tr>\n",
       "    <tr>\n",
       "      <th>58229</th>\n",
       "      <td>Douglas Henry</td>\n",
       "      <td>146.687733</td>\n",
       "      <td>213</td>\n",
       "    </tr>\n",
       "  </tbody>\n",
       "</table>\n",
       "<p>100 rows × 3 columns</p>\n",
       "</div>"
      ]
     },
     "execution_count": 269,
     "metadata": {},
     "output_type": "execute_result"
    }
   ],
   "execution_count": 269
  },
  {
   "cell_type": "markdown",
   "metadata": {},
   "source": [
    "**c)** To see how these document lengths compare to the lengths of other documents in the corpus, make a histogram of the document lengths of Obama's 100 nearest neighbors and compare to a histogram of document lengths for all documents."
   ]
  },
  {
   "cell_type": "code",
   "metadata": {
    "collapsed": false,
    "jupyter": {
     "outputs_hidden": false
    },
    "ExecuteTime": {
     "end_time": "2024-12-09T09:47:47.698363Z",
     "start_time": "2024-12-09T09:47:47.473598Z"
    }
   },
   "source": [
    "neighbor_lengths = wiki.loc[nearest_neighbors_euclidean.index]['length']\n",
    "obama_length = wiki[wiki['name'] == 'Barack Obama']['length'].iloc[0]\n",
    "biden_length = wiki[wiki['name'] == 'Joe Biden']['length'].iloc[0]\n",
    "\n",
    "plt.figure(figsize=(10.5, 4.5))\n",
    "plt.hist(wiki['length'], bins=30, alpha=0.5, label='Entire Wikipedia', color='grey', density=True)\n",
    "plt.hist(neighbor_lengths, bins=35, alpha=0.7, label=\"100 NNs of Obama (Euclidean)\", color='red', density=True)\n",
    "plt.axvline(obama_length, color='grey', linestyle='dashed', linewidth=2, label=\"Length of Barack Obama\")\n",
    "plt.axvline(biden_length, color='green', linestyle='dashed', linewidth=2, label=\"Length of Joe Biden\")\n",
    "\n",
    "plt.xlim(0, 1000)\n",
    "plt.xlabel('# of words')\n",
    "plt.ylabel('Percentage')\n",
    "plt.legend()\n",
    "plt.title('Distribution of document lengths')\n",
    "plt.tight_layout()\n",
    "plt.show()"
   ],
   "outputs": [
    {
     "data": {
      "text/plain": [
       "<Figure size 1050x450 with 1 Axes>"
      ],
      "image/png": "[encoded data removed]"
     },
     "metadata": {},
     "output_type": "display_data"
    }
   ],
   "execution_count": 270
  },
  {
   "cell_type": "markdown",
   "metadata": {},
   "source": [
    "Relative to the rest of Wikipedia, nearest neighbors of Obama are overwhemingly short, most of them being shorter than 300 words. The bias towards short articles is not appropriate in this application as there is really no reason to  favor short articles over long articles (they are all Wikipedia articles, after all). Many of the Wikipedia articles are 300 words or more, and both Obama and Biden are over 300 words long.\n",
    "\n",
    "**Note**: For the interest of computation time, the dataset given here contains _excerpts_ of the articles rather than full text. For instance, the actual Wikipedia article about Obama is around 25000 words. Do not be surprised by the low numbers shown in the histogram."
   ]
  },
  {
   "cell_type": "markdown",
   "metadata": {},
   "source": [
    "**Note:** Both word-count features and TF-IDF are proportional to word frequencies. While TF-IDF penalizes very common words, longer articles tend to have longer TF-IDF vectors simply because they have more words in them."
   ]
  },
  {
   "cell_type": "markdown",
   "metadata": {},
   "source": [
    "To remove this bias, we turn to **cosine distances**:\n",
    "$$\n",
    "d(\\mathbf{x},\\mathbf{y}) = 1 - \\frac{\\mathbf{x}^T\\mathbf{y}}{\\|\\mathbf{x}\\| \\|\\mathbf{y}\\|}\n",
    "$$\n",
    "Cosine distances let us compare word distributions of two articles of varying lengths."
   ]
  },
  {
   "cell_type": "markdown",
   "metadata": {},
   "source": [
    "**d)** Train a new nearest neighbor model, this time with cosine distances.  Then repeat the search for Obama's 100 nearest neighbors and make a plot to better visualize the effect of having used cosine distance in place of Euclidean on our TF-IDF vectors."
   ]
  },
  {
   "cell_type": "code",
   "metadata": {
    "collapsed": false,
    "jupyter": {
     "outputs_hidden": false
    },
    "ExecuteTime": {
     "end_time": "2024-12-09T09:47:47.933529Z",
     "start_time": "2024-12-09T09:47:47.736851Z"
    }
   },
   "source": [
    "# Your code goes here\n",
    "wiki['BO-cosine-TF-IDF'] = pairwise_distances(TFIDFmatrix, TFIDFmatrix[obama_idx], metric='cosine').flatten()\n",
    "\n",
    "nearest_neighbors_cosine = wiki.sort_values(by='BO-cosine-TF-IDF', ascending=True)[['name', 'BO-cosine-TF-IDF']][0:10]\n",
    "print(nearest_neighbors_cosine)"
   ],
   "outputs": [
    {
     "name": "stdout",
     "output_type": "stream",
     "text": [
      "      name                      BO-cosine-TF-IDF\n",
      "35817             Barack Obama  1.110223e-15    \n",
      "24478                Joe Biden  5.735875e-01    \n",
      "57108   Hillary Rodham Clinton  6.174663e-01    \n",
      "38376           Samantha Power  6.277340e-01    \n",
      "38714  Eric Stern (politician)  6.518504e-01    \n",
      "28447           George W. Bush  6.601642e-01    \n",
      "39357              John McCain  6.642388e-01    \n",
      "48693              Artur Davis  6.684870e-01    \n",
      "18827             Henry Waxman  6.720002e-01    \n",
      "46811            Jeff Sessions  6.740513e-01    \n"
     ]
    }
   ],
   "execution_count": 271
  },
  {
   "cell_type": "markdown",
   "metadata": {},
   "source": [
    "From a glance at the above table, things look better.  For example, we now see Joe Biden as Barack Obama's nearest neighbor!  We also see Hillary Clinton on the list.  This list looks even more plausible as nearest neighbors of Barack Obama."
   ]
  },
  {
   "cell_type": "code",
   "metadata": {
    "collapsed": false,
    "jupyter": {
     "outputs_hidden": false
    },
    "ExecuteTime": {
     "end_time": "2024-12-09T09:47:48.206281Z",
     "start_time": "2024-12-09T09:47:47.977342Z"
    }
   },
   "source": [
    "neighbor_lengths_euclidean = wiki.loc[nearest_neighbors_euclidean.index]['length']\n",
    "neighbor_lengths_cosine = wiki.loc[nearest_neighbors_cosine.index, 'length']\n",
    "\n",
    "plt.figure(figsize=(10.5, 4.5))\n",
    "plt.hist(wiki['length'], bins=30, alpha=0.5, label='Entire Wikipedia', color='grey', density=True)\n",
    "plt.hist(neighbor_lengths_euclidean, bins=35, alpha=0.7, label=\"100 NNs of Obama (Euclidean)\", color='red', density=True)\n",
    "plt.hist(neighbor_lengths_cosine, bins=25, alpha=0.7, label=\"100 NNs of Obama (cosine)\", color='blue', density=True)\n",
    "plt.axvline(obama_length, color='grey', linestyle='dashed', linewidth=2, label=\"Length of Barack Obama\")\n",
    "plt.axvline(biden_length, color='green', linestyle='dashed', linewidth=2, label=\"Length of Joe Biden\")\n",
    "\n",
    "plt.xlim(0, 1000)\n",
    "plt.xlabel('# of words')\n",
    "plt.ylabel('Percentage')\n",
    "plt.legend()\n",
    "plt.title('Distribution of document lengths')\n",
    "plt.tight_layout()\n",
    "plt.show()"
   ],
   "outputs": [
    {
     "data": {
      "text/plain": [
       "<Figure size 1050x450 with 1 Axes>"
      ],
      "image/png": "[encoded data removed]"
     },
     "metadata": {},
     "output_type": "display_data"
    }
   ],
   "execution_count": 272
  },
  {
   "cell_type": "markdown",
   "metadata": {},
   "source": [
    "Indeed, the 100 nearest neighbors using cosine distance provide a sampling across the range of document lengths, rather than just short articles like Euclidean distance provided."
   ]
  },
  {
   "cell_type": "markdown",
   "metadata": {},
   "source": [
    "**Moral of the story**: In deciding the features and distance measures, check if they produce results that make sense for your particular application."
   ]
  },
  {
   "cell_type": "markdown",
   "metadata": {},
   "source": [
    "## Ex. 5: Problem with cosine distances: tweets vs. long articles"
   ]
  },
  {
   "cell_type": "markdown",
   "metadata": {},
   "source": [
    "Happily ever after? Not so fast. Cosine distances ignore all document lengths, which may be great in certain situations but not in others. For instance, consider the following (admittedly contrived) example."
   ]
  },
  {
   "cell_type": "markdown",
   "metadata": {},
   "source": [
    "```\n",
    "+--------------------------------------------------------+\n",
    "|                                             +--------+ |\n",
    "|  One that shall not be named                | Follow | |\n",
    "|  @username                                  +--------+ |\n",
    "|                                                        |\n",
    "|  Democratic governments control law in response to     |\n",
    "|  popular act.                                          |\n",
    "|                                                        |\n",
    "|  8:05 AM - 16 May 2016                                 |\n",
    "|                                                        |\n",
    "|  Reply   Retweet (1,332)   Like (300)                  |\n",
    "|                                                        |\n",
    "+--------------------------------------------------------+\n",
    "```"
   ]
  },
  {
   "cell_type": "markdown",
   "metadata": {},
   "source": [
    "**a)** Transform the tweet into TF-IDF features, using the fit to the Wikipedia dataset. (That is, let's treat this tweet as an article in our Wikipedia dataset and see what happens.) How similar is this tweet to Barack Obama's Wikipedia article? "
   ]
  },
  {
   "cell_type": "code",
   "metadata": {
    "collapsed": false,
    "ExecuteTime": {
     "end_time": "2024-12-09T09:53:43.445106Z",
     "start_time": "2024-12-09T09:53:30.339120Z"
    }
   },
   "source": [
    "df = pd.DataFrame({'text': ['democratic governments control law in response to popular act']})\n",
    "\n",
    "vectorizer = CountVectorizer(max_features=5000, stop_words='english')\n",
    "vectorizer.fit(wiki['text'])\n",
    "\n",
    "tweet_vectorized = vectorizer.transform(df['text'])\n",
    "\n",
    "tfidf_transformer = TfidfTransformer(smooth_idf=True, norm=None)\n",
    "tweet_tfidf = tfidf_transformer.fit_transform(tweet_vectorized)\n",
    "\n",
    "obama_index = wiki[wiki['name'] == 'Barack Obama'].index[0]\n",
    "obama_tf_idf = tfidf_transformer.transform(vectorizer.transform([wiki.loc[obama_index, 'text']]))"
   ],
   "outputs": [],
   "execution_count": 280
  },
  {
   "cell_type": "markdown",
   "metadata": {},
   "source": [
    "Let's compare this tweet's TF-IDF vectors  to Barack Obama's Wikipedia entry."
   ]
  },
  {
   "cell_type": "code",
   "metadata": {
    "collapsed": false,
    "jupyter": {
     "outputs_hidden": false
    },
    "ExecuteTime": {
     "end_time": "2024-12-09T09:56:36.144458Z",
     "start_time": "2024-12-09T09:56:36.124683Z"
    }
   },
   "source": [
    "feature_names = vectorizer.get_feature_names_out()\n",
    "non_zero_indices = np.where(obama_tf_idf.toarray() > 0)[1]  \n",
    "words_with_tfidf = [(feature_names[i], obama_tf_idf[0, i]) for i in non_zero_indices]\n",
    "sorted_words_with_tfidf = sorted(words_with_tfidf, key=lambda x: x[1], reverse=True)\n",
    "for word,score in sorted_words_with_tfidf[:10]:\n",
    "    print(f\"Word: {word}, TF-IDF: {score}\")\n",
    "\n",
    "obama_tf_idf"
   ],
   "outputs": [
    {
     "name": "stdout",
     "output_type": "stream",
     "text": [
      "Word: obama, TF-IDF: 15.238324625039509\n",
      "Word: act, TF-IDF: 8.0\n",
      "Word: iraq, TF-IDF: 6.772588722239782\n",
      "Word: military, TF-IDF: 6.772588722239782\n",
      "Word: president, TF-IDF: 6.772588722239782\n",
      "Word: law, TF-IDF: 6.0\n",
      "Word: 2004, TF-IDF: 5.079441541679836\n",
      "Word: 2009, TF-IDF: 5.079441541679836\n",
      "Word: 2011, TF-IDF: 5.079441541679836\n",
      "Word: american, TF-IDF: 5.079441541679836\n"
     ]
    },
    {
     "data": {
      "text/plain": [
       "<1x5000 sparse matrix of type '<class 'numpy.float64'>'\n",
       "\twith 182 stored elements in Compressed Sparse Row format>"
      ]
     },
     "execution_count": 282,
     "metadata": {},
     "output_type": "execute_result"
    }
   ],
   "execution_count": 282
  },
  {
   "cell_type": "markdown",
   "metadata": {},
   "source": [
    "**b)** Now, compute the cosine distance between the Barack Obama article and this tweet:"
   ]
  },
  {
   "cell_type": "code",
   "metadata": {
    "collapsed": false,
    "jupyter": {
     "outputs_hidden": false
    },
    "ExecuteTime": {
     "end_time": "2024-12-09T09:48:00.256095Z",
     "start_time": "2024-12-09T09:48:00.252645Z"
    }
   },
   "source": [
    "from sklearn.metrics.pairwise import cosine_distances # for one pair of samples we can just use this function\n",
    "\n",
    "# Your code goes here"
   ],
   "outputs": [],
   "execution_count": 275
  },
  {
   "cell_type": "markdown",
   "metadata": {},
   "source": [
    "Let's compare this distance to the distance between the Barack Obama article and all of its Wikipedia nearest neighbors:"
   ]
  },
  {
   "cell_type": "code",
   "metadata": {
    "collapsed": false,
    "jupyter": {
     "outputs_hidden": false
    },
    "ExecuteTime": {
     "end_time": "2024-12-09T09:48:00.395048Z",
     "start_time": "2024-12-09T09:48:00.386150Z"
    }
   },
   "source": [
    "nearest_neighbors_cosine[0:23]"
   ],
   "outputs": [
    {
     "data": {
      "text/plain": [
       "      name                      BO-cosine-TF-IDF\n",
       "35817             Barack Obama  1.110223e-15    \n",
       "24478                Joe Biden  5.735875e-01    \n",
       "57108   Hillary Rodham Clinton  6.174663e-01    \n",
       "38376           Samantha Power  6.277340e-01    \n",
       "38714  Eric Stern (politician)  6.518504e-01    \n",
       "28447           George W. Bush  6.601642e-01    \n",
       "39357              John McCain  6.642388e-01    \n",
       "48693              Artur Davis  6.684870e-01    \n",
       "18827             Henry Waxman  6.720002e-01    \n",
       "46811            Jeff Sessions  6.740513e-01    "
      ],
      "text/html": [
       "<div>\n",
       "<style scoped>\n",
       "    .dataframe tbody tr th:only-of-type {\n",
       "        vertical-align: middle;\n",
       "    }\n",
       "\n",
       "    .dataframe tbody tr th {\n",
       "        vertical-align: top;\n",
       "    }\n",
       "\n",
       "    .dataframe thead th {\n",
       "        text-align: right;\n",
       "    }\n",
       "</style>\n",
       "<table border=\"1\" class=\"dataframe\">\n",
       "  <thead>\n",
       "    <tr style=\"text-align: left;\">\n",
       "      <th></th>\n",
       "      <th>name</th>\n",
       "      <th>BO-cosine-TF-IDF</th>\n",
       "    </tr>\n",
       "  </thead>\n",
       "  <tbody>\n",
       "    <tr>\n",
       "      <th>35817</th>\n",
       "      <td>Barack Obama</td>\n",
       "      <td>1.110223e-15</td>\n",
       "    </tr>\n",
       "    <tr>\n",
       "      <th>24478</th>\n",
       "      <td>Joe Biden</td>\n",
       "      <td>5.735875e-01</td>\n",
       "    </tr>\n",
       "    <tr>\n",
       "      <th>57108</th>\n",
       "      <td>Hillary Rodham Clinton</td>\n",
       "      <td>6.174663e-01</td>\n",
       "    </tr>\n",
       "    <tr>\n",
       "      <th>38376</th>\n",
       "      <td>Samantha Power</td>\n",
       "      <td>6.277340e-01</td>\n",
       "    </tr>\n",
       "    <tr>\n",
       "      <th>38714</th>\n",
       "      <td>Eric Stern (politician)</td>\n",
       "      <td>6.518504e-01</td>\n",
       "    </tr>\n",
       "    <tr>\n",
       "      <th>28447</th>\n",
       "      <td>George W. Bush</td>\n",
       "      <td>6.601642e-01</td>\n",
       "    </tr>\n",
       "    <tr>\n",
       "      <th>39357</th>\n",
       "      <td>John McCain</td>\n",
       "      <td>6.642388e-01</td>\n",
       "    </tr>\n",
       "    <tr>\n",
       "      <th>48693</th>\n",
       "      <td>Artur Davis</td>\n",
       "      <td>6.684870e-01</td>\n",
       "    </tr>\n",
       "    <tr>\n",
       "      <th>18827</th>\n",
       "      <td>Henry Waxman</td>\n",
       "      <td>6.720002e-01</td>\n",
       "    </tr>\n",
       "    <tr>\n",
       "      <th>46811</th>\n",
       "      <td>Jeff Sessions</td>\n",
       "      <td>6.740513e-01</td>\n",
       "    </tr>\n",
       "  </tbody>\n",
       "</table>\n",
       "</div>"
      ]
     },
     "execution_count": 276,
     "metadata": {},
     "output_type": "execute_result"
    }
   ],
   "execution_count": 276
  },
  {
   "cell_type": "markdown",
   "metadata": {},
   "source": [
    "With cosine distances, the tweet is \"nearer\" to Barack Obama than most people! If someone is reading the Barack Obama Wikipedia page, would you want to recommend they read this tweet?\n",
    "In practice, it is common to enforce maximum or minimum document lengths. After all, when someone is reading a long article from _The Atlantic_, you wouldn't recommend him/her a tweet."
   ]
  }
 ],
 "metadata": {
  "anaconda-cloud": {},
  "kernelspec": {
   "display_name": "Python 3 (ipykernel)",
   "language": "python",
   "name": "python3"
  },
  "language_info": {
   "codemirror_mode": {
    "name": "ipython",
    "version": 2
   },
   "file_extension": ".py",
   "mimetype": "text/x-python",
   "name": "python",
   "nbconvert_exporter": "python",
   "pygments_lexer": "ipython2",
   "version": "2.7.12"
  }
 },
 "nbformat": 4,
 "nbformat_minor": 4
}
